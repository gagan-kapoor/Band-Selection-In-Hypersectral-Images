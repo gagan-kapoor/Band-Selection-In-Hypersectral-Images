{
  "nbformat": 4,
  "nbformat_minor": 0,
  "metadata": {
    "colab": {
      "provenance": [],
      "gpuType": "T4"
    },
    "kernelspec": {
      "name": "python3",
      "display_name": "Python 3"
    },
    "language_info": {
      "name": "python"
    },
    "accelerator": "GPU"
  },
  "cells": [
    {
      "cell_type": "code",
      "source": [
        "def plot_training_history(training_history, validation_history, loss_history):\n",
        "    epochs = range(1, len(training_history) + 1)\n",
        "\n",
        "    # Plot Loss\n",
        "    plt.figure(figsize=(14, 5))\n",
        "\n",
        "    # Loss plot\n",
        "    plt.subplot(1, 2, 1)\n",
        "    plt.plot(epochs, loss_history, label='Training Loss')\n",
        "    plt.plot(epochs, validation_history, label='Validation Loss')\n",
        "    plt.title('Training vs Validation Loss')\n",
        "    plt.xlabel('Epochs')\n",
        "    plt.ylabel('Loss')\n",
        "    plt.legend()\n",
        "\n",
        "    # Accuracy plot\n",
        "    plt.subplot(1, 2, 2)\n",
        "    plt.plot(epochs, training_history, label='Training Accuracy')\n",
        "    plt.plot(epochs, validation_history, label='Validation Accuracy')\n",
        "    plt.title('Training vs Validation Accuracy')\n",
        "    plt.xlabel('Epochs')\n",
        "    plt.ylabel('Accuracy')\n",
        "    plt.legend()\n",
        "    plt.show()\n"
      ],
      "metadata": {
        "id": "UUXxAQYf4YtN"
      },
      "execution_count": null,
      "outputs": []
    },
    {
      "cell_type": "code",
      "execution_count": 4,
      "metadata": {
        "colab": {
          "base_uri": "https://localhost:8080/",
          "height": 1000
        },
        "id": "6-amfsqHyRZd",
        "outputId": "9ea359d5-20dd-4301-c90d-3a6867af99e0"
      },
      "outputs": [
        {
          "output_type": "stream",
          "name": "stdout",
          "text": [
            "Training model for dataset: PaviaU.mat\n",
            "Model with 3 attention modules.\n",
            "Epoch 0:\n",
            "\tTraining phase:\n"
          ]
        },
        {
          "output_type": "stream",
          "name": "stderr",
          "text": [
            "100%|██████████| 107/107 [00:01<00:00, 64.74it/s]\n"
          ]
        },
        {
          "output_type": "stream",
          "name": "stdout",
          "text": [
            "\tValidation phase:\n"
          ]
        },
        {
          "output_type": "stream",
          "name": "stderr",
          "text": [
            "100%|██████████| 14/14 [00:00<00:00, 370.57it/s]\n"
          ]
        },
        {
          "output_type": "stream",
          "name": "stdout",
          "text": [
            "\tLoss: train=0.191628 val=0.112033\n",
            "\tAcc : train=0.653385 val=0.764349\n",
            "\tSaving model state_dict...\n",
            "Epoch 1:\n",
            "\tTraining phase:\n"
          ]
        },
        {
          "output_type": "stream",
          "name": "stderr",
          "text": [
            "100%|██████████| 107/107 [00:01<00:00, 79.42it/s]\n"
          ]
        },
        {
          "output_type": "stream",
          "name": "stdout",
          "text": [
            "\tValidation phase:\n"
          ]
        },
        {
          "output_type": "stream",
          "name": "stderr",
          "text": [
            "100%|██████████| 14/14 [00:00<00:00, 400.09it/s]\n"
          ]
        },
        {
          "output_type": "stream",
          "name": "stdout",
          "text": [
            "\tLoss: train=0.096889 val=0.078799\n",
            "\tAcc : train=0.809459 val=0.875478\n",
            "\tSaving model state_dict...\n",
            "Epoch 2:\n",
            "\tTraining phase:\n"
          ]
        },
        {
          "output_type": "stream",
          "name": "stderr",
          "text": [
            "100%|██████████| 107/107 [00:01<00:00, 77.79it/s]\n"
          ]
        },
        {
          "output_type": "stream",
          "name": "stdout",
          "text": [
            "\tValidation phase:\n"
          ]
        },
        {
          "output_type": "stream",
          "name": "stderr",
          "text": [
            "100%|██████████| 14/14 [00:00<00:00, 360.55it/s]\n"
          ]
        },
        {
          "output_type": "stream",
          "name": "stdout",
          "text": [
            "\tLoss: train=0.068114 val=0.057822\n",
            "\tAcc : train=0.878328 val=0.911830\n",
            "\tSaving model state_dict...\n",
            "Epoch 3:\n",
            "\tTraining phase:\n"
          ]
        },
        {
          "output_type": "stream",
          "name": "stderr",
          "text": [
            "100%|██████████| 107/107 [00:01<00:00, 77.89it/s]\n"
          ]
        },
        {
          "output_type": "stream",
          "name": "stdout",
          "text": [
            "\tValidation phase:\n"
          ]
        },
        {
          "output_type": "stream",
          "name": "stderr",
          "text": [
            "100%|██████████| 14/14 [00:00<00:00, 148.71it/s]\n"
          ]
        },
        {
          "output_type": "stream",
          "name": "stdout",
          "text": [
            "\tLoss: train=0.053194 val=0.050022\n",
            "\tAcc : train=0.904906 val=0.912309\n",
            "\tSaving model state_dict...\n",
            "Epoch 4:\n",
            "\tTraining phase:\n"
          ]
        },
        {
          "output_type": "stream",
          "name": "stderr",
          "text": [
            "100%|██████████| 107/107 [00:01<00:00, 77.75it/s]\n"
          ]
        },
        {
          "output_type": "stream",
          "name": "stdout",
          "text": [
            "\tValidation phase:\n"
          ]
        },
        {
          "output_type": "stream",
          "name": "stderr",
          "text": [
            "100%|██████████| 14/14 [00:00<00:00, 390.95it/s]\n"
          ]
        },
        {
          "output_type": "stream",
          "name": "stdout",
          "text": [
            "\tLoss: train=0.045193 val=0.043326\n",
            "\tAcc : train=0.920707 val=0.924585\n",
            "\tSaving model state_dict...\n",
            "Epoch 5:\n",
            "\tTraining phase:\n"
          ]
        },
        {
          "output_type": "stream",
          "name": "stderr",
          "text": [
            "100%|██████████| 107/107 [00:01<00:00, 78.94it/s]\n"
          ]
        },
        {
          "output_type": "stream",
          "name": "stdout",
          "text": [
            "\tValidation phase:\n"
          ]
        },
        {
          "output_type": "stream",
          "name": "stderr",
          "text": [
            "100%|██████████| 14/14 [00:00<00:00, 401.24it/s]\n"
          ]
        },
        {
          "output_type": "stream",
          "name": "stdout",
          "text": [
            "\tLoss: train=0.040878 val=0.038691\n",
            "\tAcc : train=0.928592 val=0.936862\n",
            "\tSaving model state_dict...\n",
            "Epoch 6:\n",
            "\tTraining phase:\n"
          ]
        },
        {
          "output_type": "stream",
          "name": "stderr",
          "text": [
            "100%|██████████| 107/107 [00:01<00:00, 78.71it/s]\n"
          ]
        },
        {
          "output_type": "stream",
          "name": "stdout",
          "text": [
            "\tValidation phase:\n"
          ]
        },
        {
          "output_type": "stream",
          "name": "stderr",
          "text": [
            "100%|██████████| 14/14 [00:00<00:00, 385.11it/s]\n"
          ]
        },
        {
          "output_type": "stream",
          "name": "stdout",
          "text": [
            "\tLoss: train=0.036980 val=0.036656\n",
            "\tAcc : train=0.936332 val=0.942443\n",
            "\tSaving model state_dict...\n",
            "Epoch 7:\n",
            "\tTraining phase:\n"
          ]
        },
        {
          "output_type": "stream",
          "name": "stderr",
          "text": [
            "100%|██████████| 107/107 [00:01<00:00, 72.93it/s]\n"
          ]
        },
        {
          "output_type": "stream",
          "name": "stdout",
          "text": [
            "\tValidation phase:\n"
          ]
        },
        {
          "output_type": "stream",
          "name": "stderr",
          "text": [
            "100%|██████████| 14/14 [00:00<00:00, 273.96it/s]\n"
          ]
        },
        {
          "output_type": "stream",
          "name": "stdout",
          "text": [
            "\tLoss: train=0.034384 val=0.034871\n",
            "\tAcc : train=0.942027 val=0.942443\n",
            "Epoch 8:\n",
            "\tTraining phase:\n"
          ]
        },
        {
          "output_type": "stream",
          "name": "stderr",
          "text": [
            "100%|██████████| 107/107 [00:01<00:00, 65.12it/s]\n"
          ]
        },
        {
          "output_type": "stream",
          "name": "stdout",
          "text": [
            "\tValidation phase:\n"
          ]
        },
        {
          "output_type": "stream",
          "name": "stderr",
          "text": [
            "100%|██████████| 14/14 [00:00<00:00, 230.23it/s]\n"
          ]
        },
        {
          "output_type": "stream",
          "name": "stdout",
          "text": [
            "\tLoss: train=0.032375 val=0.032720\n",
            "\tAcc : train=0.946554 val=0.948023\n",
            "\tSaving model state_dict...\n",
            "Epoch 9:\n",
            "\tTraining phase:\n"
          ]
        },
        {
          "output_type": "stream",
          "name": "stderr",
          "text": [
            "100%|██████████| 107/107 [00:01<00:00, 75.95it/s]\n"
          ]
        },
        {
          "output_type": "stream",
          "name": "stdout",
          "text": [
            "\tValidation phase:\n"
          ]
        },
        {
          "output_type": "stream",
          "name": "stderr",
          "text": [
            "100%|██████████| 14/14 [00:00<00:00, 352.06it/s]\n"
          ]
        },
        {
          "output_type": "stream",
          "name": "stdout",
          "text": [
            "\tLoss: train=0.030617 val=0.031811\n",
            "\tAcc : train=0.949474 val=0.950255\n",
            "\tSaving model state_dict...\n",
            "Epoch 10:\n",
            "\tTraining phase:\n"
          ]
        },
        {
          "output_type": "stream",
          "name": "stderr",
          "text": [
            "100%|██████████| 107/107 [00:01<00:00, 77.74it/s]\n"
          ]
        },
        {
          "output_type": "stream",
          "name": "stdout",
          "text": [
            "\tValidation phase:\n"
          ]
        },
        {
          "output_type": "stream",
          "name": "stderr",
          "text": [
            "100%|██████████| 14/14 [00:00<00:00, 398.47it/s]\n"
          ]
        },
        {
          "output_type": "stream",
          "name": "stdout",
          "text": [
            "\tLoss: train=0.029296 val=0.031077\n",
            "\tAcc : train=0.950496 val=0.944037\n",
            "Epoch 11:\n",
            "\tTraining phase:\n"
          ]
        },
        {
          "output_type": "stream",
          "name": "stderr",
          "text": [
            "100%|██████████| 107/107 [00:01<00:00, 77.61it/s]\n"
          ]
        },
        {
          "output_type": "stream",
          "name": "stdout",
          "text": [
            "\tValidation phase:\n"
          ]
        },
        {
          "output_type": "stream",
          "name": "stderr",
          "text": [
            "100%|██████████| 14/14 [00:00<00:00, 321.56it/s]\n"
          ]
        },
        {
          "output_type": "stream",
          "name": "stdout",
          "text": [
            "\tLoss: train=0.027715 val=0.030359\n",
            "\tAcc : train=0.954731 val=0.949139\n",
            "Epoch 12:\n",
            "\tTraining phase:\n"
          ]
        },
        {
          "output_type": "stream",
          "name": "stderr",
          "text": [
            "100%|██████████| 107/107 [00:01<00:00, 79.26it/s]\n"
          ]
        },
        {
          "output_type": "stream",
          "name": "stdout",
          "text": [
            "\tValidation phase:\n"
          ]
        },
        {
          "output_type": "stream",
          "name": "stderr",
          "text": [
            "100%|██████████| 14/14 [00:00<00:00, 381.79it/s]\n"
          ]
        },
        {
          "output_type": "stream",
          "name": "stdout",
          "text": [
            "\tLoss: train=0.026578 val=0.033359\n",
            "\tAcc : train=0.956338 val=0.946907\n",
            "Epoch 13:\n",
            "\tTraining phase:\n"
          ]
        },
        {
          "output_type": "stream",
          "name": "stderr",
          "text": [
            "100%|██████████| 107/107 [00:01<00:00, 78.55it/s]\n"
          ]
        },
        {
          "output_type": "stream",
          "name": "stdout",
          "text": [
            "\tValidation phase:\n"
          ]
        },
        {
          "output_type": "stream",
          "name": "stderr",
          "text": [
            "100%|██████████| 14/14 [00:00<00:00, 372.81it/s]\n"
          ]
        },
        {
          "output_type": "stream",
          "name": "stdout",
          "text": [
            "\tLoss: train=0.025356 val=0.030445\n",
            "\tAcc : train=0.958528 val=0.946269\n",
            "Epoch 14:\n",
            "\tTraining phase:\n"
          ]
        },
        {
          "output_type": "stream",
          "name": "stderr",
          "text": [
            "100%|██████████| 107/107 [00:01<00:00, 79.47it/s]\n"
          ]
        },
        {
          "output_type": "stream",
          "name": "stdout",
          "text": [
            "\tValidation phase:\n"
          ]
        },
        {
          "output_type": "stream",
          "name": "stderr",
          "text": [
            "100%|██████████| 14/14 [00:00<00:00, 352.49it/s]\n"
          ]
        },
        {
          "output_type": "stream",
          "name": "stdout",
          "text": [
            "\tLoss: train=0.024432 val=0.031774\n",
            "\tAcc : train=0.960134 val=0.941167\n",
            "Epoch 15:\n",
            "\tTraining phase:\n"
          ]
        },
        {
          "output_type": "stream",
          "name": "stderr",
          "text": [
            "100%|██████████| 107/107 [00:01<00:00, 79.81it/s]\n"
          ]
        },
        {
          "output_type": "stream",
          "name": "stdout",
          "text": [
            "\tValidation phase:\n"
          ]
        },
        {
          "output_type": "stream",
          "name": "stderr",
          "text": [
            "100%|██████████| 14/14 [00:00<00:00, 370.51it/s]\n"
          ]
        },
        {
          "output_type": "stream",
          "name": "stdout",
          "text": [
            "\tLoss: train=0.023461 val=0.031086\n",
            "\tAcc : train=0.962325 val=0.946747\n",
            "Epoch 16:\n",
            "\tTraining phase:\n"
          ]
        },
        {
          "output_type": "stream",
          "name": "stderr",
          "text": [
            "100%|██████████| 107/107 [00:01<00:00, 68.29it/s]\n"
          ]
        },
        {
          "output_type": "stream",
          "name": "stdout",
          "text": [
            "\tValidation phase:\n"
          ]
        },
        {
          "output_type": "stream",
          "name": "stderr",
          "text": [
            "100%|██████████| 14/14 [00:00<00:00, 254.53it/s]\n"
          ]
        },
        {
          "output_type": "stream",
          "name": "stdout",
          "text": [
            "\tLoss: train=0.022594 val=0.030111\n",
            "\tAcc : train=0.964515 val=0.947385\n",
            "Epoch 17:\n",
            "\tTraining phase:\n"
          ]
        },
        {
          "output_type": "stream",
          "name": "stderr",
          "text": [
            "100%|██████████| 107/107 [00:01<00:00, 71.79it/s]\n"
          ]
        },
        {
          "output_type": "stream",
          "name": "stdout",
          "text": [
            "\tValidation phase:\n"
          ]
        },
        {
          "output_type": "stream",
          "name": "stderr",
          "text": [
            "100%|██████████| 14/14 [00:00<00:00, 347.45it/s]\n"
          ]
        },
        {
          "output_type": "stream",
          "name": "stdout",
          "text": [
            "\tLoss: train=0.021795 val=0.031900\n",
            "\tAcc : train=0.963785 val=0.945631\n",
            "Epoch 18:\n",
            "\tTraining phase:\n"
          ]
        },
        {
          "output_type": "stream",
          "name": "stderr",
          "text": [
            "100%|██████████| 107/107 [00:01<00:00, 77.69it/s]\n"
          ]
        },
        {
          "output_type": "stream",
          "name": "stdout",
          "text": [
            "\tValidation phase:\n"
          ]
        },
        {
          "output_type": "stream",
          "name": "stderr",
          "text": [
            "100%|██████████| 14/14 [00:00<00:00, 358.94it/s]\n"
          ]
        },
        {
          "output_type": "stream",
          "name": "stdout",
          "text": [
            "\tLoss: train=0.020741 val=0.030441\n",
            "\tAcc : train=0.967290 val=0.944515\n",
            "Epoch 19:\n",
            "\tTraining phase:\n"
          ]
        },
        {
          "output_type": "stream",
          "name": "stderr",
          "text": [
            "100%|██████████| 107/107 [00:01<00:00, 78.92it/s]\n"
          ]
        },
        {
          "output_type": "stream",
          "name": "stdout",
          "text": [
            "\tValidation phase:\n"
          ]
        },
        {
          "output_type": "stream",
          "name": "stderr",
          "text": [
            "100%|██████████| 14/14 [00:00<00:00, 378.49it/s]\n"
          ]
        },
        {
          "output_type": "stream",
          "name": "stdout",
          "text": [
            "\tLoss: train=0.019769 val=0.032354\n",
            "\tAcc : train=0.969626 val=0.936065\n",
            "Epoch 20:\n",
            "\tTraining phase:\n"
          ]
        },
        {
          "output_type": "stream",
          "name": "stderr",
          "text": [
            "100%|██████████| 107/107 [00:01<00:00, 78.85it/s]\n"
          ]
        },
        {
          "output_type": "stream",
          "name": "stdout",
          "text": [
            "\tValidation phase:\n"
          ]
        },
        {
          "output_type": "stream",
          "name": "stderr",
          "text": [
            "100%|██████████| 14/14 [00:00<00:00, 373.74it/s]\n"
          ]
        },
        {
          "output_type": "stream",
          "name": "stdout",
          "text": [
            "\tLoss: train=0.019090 val=0.032693\n",
            "\tAcc : train=0.969626 val=0.937819\n",
            "Epoch 21:\n",
            "\tTraining phase:\n"
          ]
        },
        {
          "output_type": "stream",
          "name": "stderr",
          "text": [
            "100%|██████████| 107/107 [00:01<00:00, 79.17it/s]\n"
          ]
        },
        {
          "output_type": "stream",
          "name": "stdout",
          "text": [
            "\tValidation phase:\n"
          ]
        },
        {
          "output_type": "stream",
          "name": "stderr",
          "text": [
            "100%|██████████| 14/14 [00:00<00:00, 363.28it/s]\n"
          ]
        },
        {
          "output_type": "stream",
          "name": "stdout",
          "text": [
            "\tLoss: train=0.018340 val=0.036313\n",
            "\tAcc : train=0.970502 val=0.938935\n",
            "Epoch 22:\n",
            "\tTraining phase:\n"
          ]
        },
        {
          "output_type": "stream",
          "name": "stderr",
          "text": [
            "100%|██████████| 107/107 [00:01<00:00, 78.61it/s]\n"
          ]
        },
        {
          "output_type": "stream",
          "name": "stdout",
          "text": [
            "\tValidation phase:\n"
          ]
        },
        {
          "output_type": "stream",
          "name": "stderr",
          "text": [
            "100%|██████████| 14/14 [00:00<00:00, 357.31it/s]\n"
          ]
        },
        {
          "output_type": "stream",
          "name": "stdout",
          "text": [
            "\tLoss: train=0.017444 val=0.033858\n",
            "\tAcc : train=0.971963 val=0.941167\n",
            "Epoch 23:\n",
            "\tTraining phase:\n"
          ]
        },
        {
          "output_type": "stream",
          "name": "stderr",
          "text": [
            "100%|██████████| 107/107 [00:01<00:00, 79.00it/s]\n"
          ]
        },
        {
          "output_type": "stream",
          "name": "stdout",
          "text": [
            "\tValidation phase:\n"
          ]
        },
        {
          "output_type": "stream",
          "name": "stderr",
          "text": [
            "100%|██████████| 14/14 [00:00<00:00, 379.34it/s]\n"
          ]
        },
        {
          "output_type": "stream",
          "name": "stdout",
          "text": [
            "\tLoss: train=0.016791 val=0.033435\n",
            "\tAcc : train=0.973715 val=0.949617\n",
            "Epoch 24:\n",
            "\tTraining phase:\n"
          ]
        },
        {
          "output_type": "stream",
          "name": "stderr",
          "text": [
            "100%|██████████| 107/107 [00:01<00:00, 69.98it/s]\n"
          ]
        },
        {
          "output_type": "stream",
          "name": "stdout",
          "text": [
            "\tValidation phase:\n"
          ]
        },
        {
          "output_type": "stream",
          "name": "stderr",
          "text": [
            "100%|██████████| 14/14 [00:00<00:00, 249.42it/s]\n"
          ]
        },
        {
          "output_type": "stream",
          "name": "stdout",
          "text": [
            "\tLoss: train=0.016013 val=0.033443\n",
            "\tAcc : train=0.975321 val=0.946269\n",
            "Epoch 25:\n",
            "\tTraining phase:\n"
          ]
        },
        {
          "output_type": "stream",
          "name": "stderr",
          "text": [
            "100%|██████████| 107/107 [00:01<00:00, 68.15it/s]\n"
          ]
        },
        {
          "output_type": "stream",
          "name": "stdout",
          "text": [
            "\tValidation phase:\n"
          ]
        },
        {
          "output_type": "stream",
          "name": "stderr",
          "text": [
            "100%|██████████| 14/14 [00:00<00:00, 399.68it/s]\n"
          ]
        },
        {
          "output_type": "stream",
          "name": "stdout",
          "text": [
            "\tLoss: train=0.015124 val=0.032331\n",
            "\tAcc : train=0.978826 val=0.950733\n",
            "\tSaving model state_dict...\n",
            "Epoch 26:\n",
            "\tTraining phase:\n"
          ]
        },
        {
          "output_type": "stream",
          "name": "stderr",
          "text": [
            "100%|██████████| 107/107 [00:01<00:00, 78.27it/s]\n"
          ]
        },
        {
          "output_type": "stream",
          "name": "stdout",
          "text": [
            "\tValidation phase:\n"
          ]
        },
        {
          "output_type": "stream",
          "name": "stderr",
          "text": [
            "100%|██████████| 14/14 [00:00<00:00, 331.11it/s]\n"
          ]
        },
        {
          "output_type": "stream",
          "name": "stdout",
          "text": [
            "\tLoss: train=0.014221 val=0.030904\n",
            "\tAcc : train=0.978972 val=0.949617\n",
            "Epoch 27:\n",
            "\tTraining phase:\n"
          ]
        },
        {
          "output_type": "stream",
          "name": "stderr",
          "text": [
            "100%|██████████| 107/107 [00:01<00:00, 78.91it/s]\n"
          ]
        },
        {
          "output_type": "stream",
          "name": "stdout",
          "text": [
            "\tValidation phase:\n"
          ]
        },
        {
          "output_type": "stream",
          "name": "stderr",
          "text": [
            "100%|██████████| 14/14 [00:00<00:00, 363.55it/s]\n"
          ]
        },
        {
          "output_type": "stream",
          "name": "stdout",
          "text": [
            "\tLoss: train=0.013776 val=0.030550\n",
            "\tAcc : train=0.980286 val=0.951849\n",
            "\tSaving model state_dict...\n",
            "Epoch 28:\n",
            "\tTraining phase:\n"
          ]
        },
        {
          "output_type": "stream",
          "name": "stderr",
          "text": [
            "100%|██████████| 107/107 [00:01<00:00, 80.00it/s]\n"
          ]
        },
        {
          "output_type": "stream",
          "name": "stdout",
          "text": [
            "\tValidation phase:\n"
          ]
        },
        {
          "output_type": "stream",
          "name": "stderr",
          "text": [
            "100%|██████████| 14/14 [00:00<00:00, 355.26it/s]\n"
          ]
        },
        {
          "output_type": "stream",
          "name": "stdout",
          "text": [
            "\tLoss: train=0.012656 val=0.029083\n",
            "\tAcc : train=0.982331 val=0.951849\n",
            "Epoch 29:\n",
            "\tTraining phase:\n"
          ]
        },
        {
          "output_type": "stream",
          "name": "stderr",
          "text": [
            "100%|██████████| 107/107 [00:01<00:00, 79.37it/s]\n"
          ]
        },
        {
          "output_type": "stream",
          "name": "stdout",
          "text": [
            "\tValidation phase:\n"
          ]
        },
        {
          "output_type": "stream",
          "name": "stderr",
          "text": [
            "100%|██████████| 14/14 [00:00<00:00, 367.63it/s]\n"
          ]
        },
        {
          "output_type": "stream",
          "name": "stdout",
          "text": [
            "\tLoss: train=0.012242 val=0.029091\n",
            "\tAcc : train=0.982331 val=0.954719\n",
            "\tSaving model state_dict...\n",
            "Epoch 30:\n",
            "\tTraining phase:\n"
          ]
        },
        {
          "output_type": "stream",
          "name": "stderr",
          "text": [
            "100%|██████████| 107/107 [00:01<00:00, 79.50it/s]\n"
          ]
        },
        {
          "output_type": "stream",
          "name": "stdout",
          "text": [
            "\tValidation phase:\n"
          ]
        },
        {
          "output_type": "stream",
          "name": "stderr",
          "text": [
            "100%|██████████| 14/14 [00:00<00:00, 378.90it/s]\n"
          ]
        },
        {
          "output_type": "stream",
          "name": "stdout",
          "text": [
            "\tLoss: train=0.012083 val=0.030669\n",
            "\tAcc : train=0.981746 val=0.958068\n",
            "\tSaving model state_dict...\n",
            "Epoch 31:\n",
            "\tTraining phase:\n"
          ]
        },
        {
          "output_type": "stream",
          "name": "stderr",
          "text": [
            "100%|██████████| 107/107 [00:01<00:00, 80.10it/s]\n"
          ]
        },
        {
          "output_type": "stream",
          "name": "stdout",
          "text": [
            "\tValidation phase:\n"
          ]
        },
        {
          "output_type": "stream",
          "name": "stderr",
          "text": [
            "100%|██████████| 14/14 [00:00<00:00, 335.26it/s]\n"
          ]
        },
        {
          "output_type": "stream",
          "name": "stdout",
          "text": [
            "\tLoss: train=0.010982 val=0.031165\n",
            "\tAcc : train=0.985251 val=0.956952\n",
            "Epoch 32:\n",
            "\tTraining phase:\n"
          ]
        },
        {
          "output_type": "stream",
          "name": "stderr",
          "text": [
            "100%|██████████| 107/107 [00:01<00:00, 78.03it/s]\n"
          ]
        },
        {
          "output_type": "stream",
          "name": "stdout",
          "text": [
            "\tValidation phase:\n"
          ]
        },
        {
          "output_type": "stream",
          "name": "stderr",
          "text": [
            "100%|██████████| 14/14 [00:00<00:00, 259.42it/s]\n"
          ]
        },
        {
          "output_type": "stream",
          "name": "stdout",
          "text": [
            "\tLoss: train=0.010742 val=0.031559\n",
            "\tAcc : train=0.984521 val=0.948501\n",
            "Epoch 33:\n",
            "\tTraining phase:\n"
          ]
        },
        {
          "output_type": "stream",
          "name": "stderr",
          "text": [
            "100%|██████████| 107/107 [00:01<00:00, 66.76it/s]\n"
          ]
        },
        {
          "output_type": "stream",
          "name": "stdout",
          "text": [
            "\tValidation phase:\n"
          ]
        },
        {
          "output_type": "stream",
          "name": "stderr",
          "text": [
            "100%|██████████| 14/14 [00:00<00:00, 226.57it/s]\n"
          ]
        },
        {
          "output_type": "stream",
          "name": "stdout",
          "text": [
            "\tLoss: train=0.009640 val=0.031672\n",
            "\tAcc : train=0.987296 val=0.951849\n",
            "Epoch 34:\n",
            "\tTraining phase:\n"
          ]
        },
        {
          "output_type": "stream",
          "name": "stderr",
          "text": [
            "100%|██████████| 107/107 [00:01<00:00, 73.51it/s]\n"
          ]
        },
        {
          "output_type": "stream",
          "name": "stdout",
          "text": [
            "\tValidation phase:\n"
          ]
        },
        {
          "output_type": "stream",
          "name": "stderr",
          "text": [
            "100%|██████████| 14/14 [00:00<00:00, 384.09it/s]\n"
          ]
        },
        {
          "output_type": "stream",
          "name": "stdout",
          "text": [
            "\tLoss: train=0.008861 val=0.030762\n",
            "\tAcc : train=0.989194 val=0.955198\n",
            "Epoch 35:\n",
            "\tTraining phase:\n"
          ]
        },
        {
          "output_type": "stream",
          "name": "stderr",
          "text": [
            "100%|██████████| 107/107 [00:01<00:00, 79.73it/s]\n"
          ]
        },
        {
          "output_type": "stream",
          "name": "stdout",
          "text": [
            "\tValidation phase:\n"
          ]
        },
        {
          "output_type": "stream",
          "name": "stderr",
          "text": [
            "100%|██████████| 14/14 [00:00<00:00, 380.53it/s]\n"
          ]
        },
        {
          "output_type": "stream",
          "name": "stdout",
          "text": [
            "\tLoss: train=0.008799 val=0.032452\n",
            "\tAcc : train=0.987880 val=0.948501\n",
            "Epoch 36:\n",
            "\tTraining phase:\n"
          ]
        },
        {
          "output_type": "stream",
          "name": "stderr",
          "text": [
            "100%|██████████| 107/107 [00:01<00:00, 79.12it/s]\n"
          ]
        },
        {
          "output_type": "stream",
          "name": "stdout",
          "text": [
            "\tValidation phase:\n"
          ]
        },
        {
          "output_type": "stream",
          "name": "stderr",
          "text": [
            "100%|██████████| 14/14 [00:00<00:00, 310.09it/s]\n"
          ]
        },
        {
          "output_type": "stream",
          "name": "stdout",
          "text": [
            "\tLoss: train=0.009089 val=0.033260\n",
            "\tAcc : train=0.987296 val=0.949617\n",
            "Epoch 37:\n",
            "\tTraining phase:\n"
          ]
        },
        {
          "output_type": "stream",
          "name": "stderr",
          "text": [
            "100%|██████████| 107/107 [00:01<00:00, 79.42it/s]\n"
          ]
        },
        {
          "output_type": "stream",
          "name": "stdout",
          "text": [
            "\tValidation phase:\n"
          ]
        },
        {
          "output_type": "stream",
          "name": "stderr",
          "text": [
            "100%|██████████| 14/14 [00:00<00:00, 365.98it/s]\n"
          ]
        },
        {
          "output_type": "stream",
          "name": "stdout",
          "text": [
            "\tLoss: train=0.008460 val=0.033796\n",
            "\tAcc : train=0.988610 val=0.941805\n",
            "Epoch 38:\n",
            "\tTraining phase:\n"
          ]
        },
        {
          "output_type": "stream",
          "name": "stderr",
          "text": [
            "100%|██████████| 107/107 [00:01<00:00, 79.72it/s]\n"
          ]
        },
        {
          "output_type": "stream",
          "name": "stdout",
          "text": [
            "\tValidation phase:\n"
          ]
        },
        {
          "output_type": "stream",
          "name": "stderr",
          "text": [
            "100%|██████████| 14/14 [00:00<00:00, 374.57it/s]\n"
          ]
        },
        {
          "output_type": "stream",
          "name": "stdout",
          "text": [
            "\tLoss: train=0.007823 val=0.032850\n",
            "\tAcc : train=0.990216 val=0.945153\n",
            "Epoch 39:\n",
            "\tTraining phase:\n"
          ]
        },
        {
          "output_type": "stream",
          "name": "stderr",
          "text": [
            "100%|██████████| 107/107 [00:01<00:00, 76.06it/s]\n"
          ]
        },
        {
          "output_type": "stream",
          "name": "stdout",
          "text": [
            "\tValidation phase:\n"
          ]
        },
        {
          "output_type": "stream",
          "name": "stderr",
          "text": [
            "100%|██████████| 14/14 [00:00<00:00, 369.82it/s]\n"
          ]
        },
        {
          "output_type": "stream",
          "name": "stdout",
          "text": [
            "\tLoss: train=0.007771 val=0.035603\n",
            "\tAcc : train=0.989340 val=0.944037\n",
            "Epoch 40:\n",
            "\tTraining phase:\n"
          ]
        },
        {
          "output_type": "stream",
          "name": "stderr",
          "text": [
            "100%|██████████| 107/107 [00:01<00:00, 78.35it/s]\n"
          ]
        },
        {
          "output_type": "stream",
          "name": "stdout",
          "text": [
            "\tValidation phase:\n"
          ]
        },
        {
          "output_type": "stream",
          "name": "stderr",
          "text": [
            "100%|██████████| 14/14 [00:00<00:00, 353.60it/s]\n"
          ]
        },
        {
          "output_type": "stream",
          "name": "stdout",
          "text": [
            "\tLoss: train=0.007694 val=0.035087\n",
            "\tAcc : train=0.990800 val=0.944037\n",
            "Epoch 41:\n",
            "\tTraining phase:\n"
          ]
        },
        {
          "output_type": "stream",
          "name": "stderr",
          "text": [
            "100%|██████████| 107/107 [00:01<00:00, 69.79it/s]\n"
          ]
        },
        {
          "output_type": "stream",
          "name": "stdout",
          "text": [
            "\tValidation phase:\n"
          ]
        },
        {
          "output_type": "stream",
          "name": "stderr",
          "text": [
            "100%|██████████| 14/14 [00:00<00:00, 248.62it/s]\n"
          ]
        },
        {
          "output_type": "stream",
          "name": "stdout",
          "text": [
            "\tLoss: train=0.006663 val=0.038231\n",
            "\tAcc : train=0.990946 val=0.937341\n",
            "Epoch 42:\n",
            "\tTraining phase:\n"
          ]
        },
        {
          "output_type": "stream",
          "name": "stderr",
          "text": [
            "100%|██████████| 107/107 [00:01<00:00, 68.73it/s]\n"
          ]
        },
        {
          "output_type": "stream",
          "name": "stdout",
          "text": [
            "\tValidation phase:\n"
          ]
        },
        {
          "output_type": "stream",
          "name": "stderr",
          "text": [
            "100%|██████████| 14/14 [00:00<00:00, 360.23it/s]\n"
          ]
        },
        {
          "output_type": "stream",
          "name": "stdout",
          "text": [
            "\tLoss: train=0.006321 val=0.034582\n",
            "\tAcc : train=0.992261 val=0.944675\n",
            "Epoch 43:\n",
            "\tTraining phase:\n"
          ]
        },
        {
          "output_type": "stream",
          "name": "stderr",
          "text": [
            "100%|██████████| 107/107 [00:01<00:00, 79.69it/s]\n"
          ]
        },
        {
          "output_type": "stream",
          "name": "stdout",
          "text": [
            "\tValidation phase:\n"
          ]
        },
        {
          "output_type": "stream",
          "name": "stderr",
          "text": [
            "100%|██████████| 14/14 [00:00<00:00, 379.65it/s]\n"
          ]
        },
        {
          "output_type": "stream",
          "name": "stdout",
          "text": [
            "\tLoss: train=0.006779 val=0.035545\n",
            "\tAcc : train=0.990946 val=0.948023\n",
            "Epoch 44:\n",
            "\tTraining phase:\n"
          ]
        },
        {
          "output_type": "stream",
          "name": "stderr",
          "text": [
            "100%|██████████| 107/107 [00:01<00:00, 78.64it/s]\n"
          ]
        },
        {
          "output_type": "stream",
          "name": "stdout",
          "text": [
            "\tValidation phase:\n"
          ]
        },
        {
          "output_type": "stream",
          "name": "stderr",
          "text": [
            "100%|██████████| 14/14 [00:00<00:00, 308.51it/s]\n"
          ]
        },
        {
          "output_type": "stream",
          "name": "stdout",
          "text": [
            "\tLoss: train=0.007336 val=0.038368\n",
            "\tAcc : train=0.990362 val=0.948023\n",
            "Epoch 45:\n",
            "\tTraining phase:\n"
          ]
        },
        {
          "output_type": "stream",
          "name": "stderr",
          "text": [
            "100%|██████████| 107/107 [00:01<00:00, 78.54it/s]\n"
          ]
        },
        {
          "output_type": "stream",
          "name": "stdout",
          "text": [
            "\tValidation phase:\n"
          ]
        },
        {
          "output_type": "stream",
          "name": "stderr",
          "text": [
            "100%|██████████| 14/14 [00:00<00:00, 374.76it/s]\n"
          ]
        },
        {
          "output_type": "stream",
          "name": "stdout",
          "text": [
            "\tLoss: train=0.007143 val=0.038249\n",
            "\tAcc : train=0.989924 val=0.942921\n",
            "Epoch 46:\n",
            "\tTraining phase:\n"
          ]
        },
        {
          "output_type": "stream",
          "name": "stderr",
          "text": [
            "100%|██████████| 107/107 [00:01<00:00, 77.91it/s]\n"
          ]
        },
        {
          "output_type": "stream",
          "name": "stdout",
          "text": [
            "\tValidation phase:\n"
          ]
        },
        {
          "output_type": "stream",
          "name": "stderr",
          "text": [
            "100%|██████████| 14/14 [00:00<00:00, 318.05it/s]\n"
          ]
        },
        {
          "output_type": "stream",
          "name": "stdout",
          "text": [
            "\tLoss: train=0.007157 val=0.047043\n",
            "\tAcc : train=0.988610 val=0.940689\n",
            "Epoch 47:\n",
            "\tTraining phase:\n"
          ]
        },
        {
          "output_type": "stream",
          "name": "stderr",
          "text": [
            "100%|██████████| 107/107 [00:01<00:00, 78.93it/s]\n"
          ]
        },
        {
          "output_type": "stream",
          "name": "stdout",
          "text": [
            "\tValidation phase:\n"
          ]
        },
        {
          "output_type": "stream",
          "name": "stderr",
          "text": [
            "100%|██████████| 14/14 [00:00<00:00, 337.17it/s]\n"
          ]
        },
        {
          "output_type": "stream",
          "name": "stdout",
          "text": [
            "\tLoss: train=0.006680 val=0.050453\n",
            "\tAcc : train=0.990508 val=0.935108\n",
            "Epoch 48:\n",
            "\tTraining phase:\n"
          ]
        },
        {
          "output_type": "stream",
          "name": "stderr",
          "text": [
            "100%|██████████| 107/107 [00:01<00:00, 79.18it/s]\n"
          ]
        },
        {
          "output_type": "stream",
          "name": "stdout",
          "text": [
            "\tValidation phase:\n"
          ]
        },
        {
          "output_type": "stream",
          "name": "stderr",
          "text": [
            "100%|██████████| 14/14 [00:00<00:00, 367.50it/s]\n"
          ]
        },
        {
          "output_type": "stream",
          "name": "stdout",
          "text": [
            "\tLoss: train=0.007376 val=0.047092\n",
            "\tAcc : train=0.989486 val=0.939573\n",
            "Epoch 49:\n",
            "\tTraining phase:\n"
          ]
        },
        {
          "output_type": "stream",
          "name": "stderr",
          "text": [
            "100%|██████████| 107/107 [00:01<00:00, 74.79it/s]\n"
          ]
        },
        {
          "output_type": "stream",
          "name": "stdout",
          "text": [
            "\tValidation phase:\n"
          ]
        },
        {
          "output_type": "stream",
          "name": "stderr",
          "text": [
            "100%|██████████| 14/14 [00:00<00:00, 293.74it/s]\n"
          ]
        },
        {
          "output_type": "stream",
          "name": "stdout",
          "text": [
            "\tLoss: train=0.006741 val=0.045918\n",
            "\tAcc : train=0.989778 val=0.939573\n",
            "Epoch 50:\n",
            "\tTraining phase:\n"
          ]
        },
        {
          "output_type": "stream",
          "name": "stderr",
          "text": [
            "100%|██████████| 107/107 [00:01<00:00, 65.60it/s]\n"
          ]
        },
        {
          "output_type": "stream",
          "name": "stdout",
          "text": [
            "\tValidation phase:\n"
          ]
        },
        {
          "output_type": "stream",
          "name": "stderr",
          "text": [
            "100%|██████████| 14/14 [00:00<00:00, 301.65it/s]\n"
          ]
        },
        {
          "output_type": "stream",
          "name": "stdout",
          "text": [
            "\tLoss: train=0.007159 val=0.041100\n",
            "\tAcc : train=0.989924 val=0.950255\n",
            "Epoch 51:\n",
            "\tTraining phase:\n"
          ]
        },
        {
          "output_type": "stream",
          "name": "stderr",
          "text": [
            "100%|██████████| 107/107 [00:01<00:00, 79.47it/s]\n"
          ]
        },
        {
          "output_type": "stream",
          "name": "stdout",
          "text": [
            "\tValidation phase:\n"
          ]
        },
        {
          "output_type": "stream",
          "name": "stderr",
          "text": [
            "100%|██████████| 14/14 [00:00<00:00, 345.66it/s]\n"
          ]
        },
        {
          "output_type": "stream",
          "name": "stdout",
          "text": [
            "\tLoss: train=0.006208 val=0.032095\n",
            "\tAcc : train=0.990508 val=0.949617\n",
            "Epoch 52:\n",
            "\tTraining phase:\n"
          ]
        },
        {
          "output_type": "stream",
          "name": "stderr",
          "text": [
            "100%|██████████| 107/107 [00:01<00:00, 79.49it/s]\n"
          ]
        },
        {
          "output_type": "stream",
          "name": "stdout",
          "text": [
            "\tValidation phase:\n"
          ]
        },
        {
          "output_type": "stream",
          "name": "stderr",
          "text": [
            "100%|██████████| 14/14 [00:00<00:00, 355.21it/s]\n"
          ]
        },
        {
          "output_type": "stream",
          "name": "stdout",
          "text": [
            "\tLoss: train=0.006309 val=0.032239\n",
            "\tAcc : train=0.991384 val=0.956952\n",
            "Epoch 53:\n",
            "\tTraining phase:\n"
          ]
        },
        {
          "output_type": "stream",
          "name": "stderr",
          "text": [
            "100%|██████████| 107/107 [00:01<00:00, 78.48it/s]\n"
          ]
        },
        {
          "output_type": "stream",
          "name": "stdout",
          "text": [
            "\tValidation phase:\n"
          ]
        },
        {
          "output_type": "stream",
          "name": "stderr",
          "text": [
            "100%|██████████| 14/14 [00:00<00:00, 356.72it/s]\n"
          ]
        },
        {
          "output_type": "stream",
          "name": "stdout",
          "text": [
            "\tLoss: train=0.005233 val=0.034479\n",
            "\tAcc : train=0.992114 val=0.952487\n",
            "Epoch 54:\n",
            "\tTraining phase:\n"
          ]
        },
        {
          "output_type": "stream",
          "name": "stderr",
          "text": [
            "100%|██████████| 107/107 [00:01<00:00, 73.18it/s]\n"
          ]
        },
        {
          "output_type": "stream",
          "name": "stdout",
          "text": [
            "\tValidation phase:\n"
          ]
        },
        {
          "output_type": "stream",
          "name": "stderr",
          "text": [
            "100%|██████████| 14/14 [00:00<00:00, 373.93it/s]\n"
          ]
        },
        {
          "output_type": "stream",
          "name": "stdout",
          "text": [
            "\tLoss: train=0.004846 val=0.037594\n",
            "\tAcc : train=0.993429 val=0.953603\n",
            "Epoch 55:\n",
            "\tTraining phase:\n"
          ]
        },
        {
          "output_type": "stream",
          "name": "stderr",
          "text": [
            "100%|██████████| 107/107 [00:01<00:00, 78.46it/s]\n"
          ]
        },
        {
          "output_type": "stream",
          "name": "stdout",
          "text": [
            "\tValidation phase:\n"
          ]
        },
        {
          "output_type": "stream",
          "name": "stderr",
          "text": [
            "100%|██████████| 14/14 [00:00<00:00, 330.35it/s]\n"
          ]
        },
        {
          "output_type": "stream",
          "name": "stdout",
          "text": [
            "\tLoss: train=0.004365 val=0.038117\n",
            "\tAcc : train=0.994451 val=0.949139\n",
            "\tEarly stopping (patience reached).\n"
          ]
        },
        {
          "output_type": "display_data",
          "data": {
            "text/plain": [
              "<Figure size 1400x500 with 2 Axes>"
            ],
            "image/png": "[encoded data removed]"
          },
          "metadata": {}
        },
        {
          "output_type": "stream",
          "name": "stdout",
          "text": [
            "Model with 3 attention modules.\n",
            "\tTesting:\n"
          ]
        },
        {
          "output_type": "stream",
          "name": "stderr",
          "text": [
            "100%|██████████| 14/14 [00:00<00:00, 122.84it/s]"
          ]
        },
        {
          "output_type": "stream",
          "name": "stdout",
          "text": [
            "\tTesting accuracy: 0.939094387755102% \n"
          ]
        },
        {
          "output_type": "stream",
          "name": "stderr",
          "text": [
            "\n",
            "/tmp/ipython-input-4-2436011504.py:285: UserWarning: set_ticklabels() should only be used with a fixed number of ticks, i.e. after set_ticks() or using a FixedLocator.\n",
            "  axis.set_yticklabels(list(range(heatmaps.shape[0])), minor=True)\n"
          ]
        },
        {
          "output_type": "display_data",
          "data": {
            "text/plain": [
              "<Figure size 1200x400 with 2 Axes>"
            ],
            "image/png": "[encoded data removed]"
          },
          "metadata": {}
        },
        {
          "output_type": "stream",
          "name": "stdout",
          "text": [
            "Selected bands: [84 85 86 87 88 89 90 91 92 93]\n",
            "Training model for dataset: PaviaU.mat\n",
            "Selected bands: [84 85 86 87 88 89 90 91 92 93]\n",
            "Number of selected bands: 10\n",
            "Epoch 0:\n",
            "\tTraining phase:\n"
          ]
        },
        {
          "output_type": "stream",
          "name": "stderr",
          "text": [
            "100%|██████████| 107/107 [00:00<00:00, 185.28it/s]\n"
          ]
        },
        {
          "output_type": "stream",
          "name": "stdout",
          "text": [
            "\tValidation phase:\n"
          ]
        },
        {
          "output_type": "stream",
          "name": "stderr",
          "text": [
            "100%|██████████| 14/14 [00:00<00:00, 424.51it/s]\n"
          ]
        },
        {
          "output_type": "stream",
          "name": "stdout",
          "text": [
            "\tLoss: train=0.261864 val=0.209377\n",
            "\tAcc : train=0.476157 val=0.562022\n",
            "\tSaving model state_dict...\n",
            "Epoch 1:\n",
            "\tTraining phase:\n"
          ]
        },
        {
          "output_type": "stream",
          "name": "stderr",
          "text": [
            "100%|██████████| 107/107 [00:00<00:00, 200.26it/s]\n"
          ]
        },
        {
          "output_type": "stream",
          "name": "stdout",
          "text": [
            "\tValidation phase:\n"
          ]
        },
        {
          "output_type": "stream",
          "name": "stderr",
          "text": [
            "100%|██████████| 14/14 [00:00<00:00, 654.61it/s]\n"
          ]
        },
        {
          "output_type": "stream",
          "name": "stdout",
          "text": [
            "\tLoss: train=0.187766 val=0.176725\n",
            "\tAcc : train=0.580889 val=0.630899\n",
            "\tSaving model state_dict...\n",
            "Epoch 2:\n",
            "\tTraining phase:\n"
          ]
        },
        {
          "output_type": "stream",
          "name": "stderr",
          "text": [
            "100%|██████████| 107/107 [00:00<00:00, 206.97it/s]\n"
          ]
        },
        {
          "output_type": "stream",
          "name": "stdout",
          "text": [
            "\tValidation phase:\n"
          ]
        },
        {
          "output_type": "stream",
          "name": "stderr",
          "text": [
            "100%|██████████| 14/14 [00:00<00:00, 645.11it/s]\n"
          ]
        },
        {
          "output_type": "stream",
          "name": "stdout",
          "text": [
            "\tLoss: train=0.169205 val=0.161626\n",
            "\tAcc : train=0.618127 val=0.654337\n",
            "\tSaving model state_dict...\n",
            "Epoch 3:\n",
            "\tTraining phase:\n"
          ]
        },
        {
          "output_type": "stream",
          "name": "stderr",
          "text": [
            "100%|██████████| 107/107 [00:00<00:00, 181.60it/s]\n"
          ]
        },
        {
          "output_type": "stream",
          "name": "stdout",
          "text": [
            "\tValidation phase:\n"
          ]
        },
        {
          "output_type": "stream",
          "name": "stderr",
          "text": [
            "100%|██████████| 14/14 [00:00<00:00, 629.32it/s]\n"
          ]
        },
        {
          "output_type": "stream",
          "name": "stdout",
          "text": [
            "\tLoss: train=0.158226 val=0.156196\n",
            "\tAcc : train=0.655802 val=0.688935\n",
            "\tSaving model state_dict...\n",
            "Epoch 4:\n",
            "\tTraining phase:\n"
          ]
        },
        {
          "output_type": "stream",
          "name": "stderr",
          "text": [
            "100%|██████████| 107/107 [00:00<00:00, 245.16it/s]\n"
          ]
        },
        {
          "output_type": "stream",
          "name": "stdout",
          "text": [
            "\tValidation phase:\n"
          ]
        },
        {
          "output_type": "stream",
          "name": "stderr",
          "text": [
            "100%|██████████| 14/14 [00:00<00:00, 565.93it/s]\n"
          ]
        },
        {
          "output_type": "stream",
          "name": "stdout",
          "text": [
            "\tLoss: train=0.150592 val=0.152655\n",
            "\tAcc : train=0.673794 val=0.674426\n",
            "Epoch 5:\n",
            "\tTraining phase:\n"
          ]
        },
        {
          "output_type": "stream",
          "name": "stderr",
          "text": [
            "100%|██████████| 107/107 [00:00<00:00, 236.00it/s]\n"
          ]
        },
        {
          "output_type": "stream",
          "name": "stdout",
          "text": [
            "\tValidation phase:\n"
          ]
        },
        {
          "output_type": "stream",
          "name": "stderr",
          "text": [
            "100%|██████████| 14/14 [00:00<00:00, 699.43it/s]\n"
          ]
        },
        {
          "output_type": "stream",
          "name": "stdout",
          "text": [
            "\tLoss: train=0.144518 val=0.142987\n",
            "\tAcc : train=0.691785 val=0.721939\n",
            "\tSaving model state_dict...\n",
            "Epoch 6:\n",
            "\tTraining phase:\n"
          ]
        },
        {
          "output_type": "stream",
          "name": "stderr",
          "text": [
            "100%|██████████| 107/107 [00:00<00:00, 256.77it/s]\n"
          ]
        },
        {
          "output_type": "stream",
          "name": "stdout",
          "text": [
            "\tValidation phase:\n"
          ]
        },
        {
          "output_type": "stream",
          "name": "stderr",
          "text": [
            "100%|██████████| 14/14 [00:00<00:00, 820.79it/s]\n"
          ]
        },
        {
          "output_type": "stream",
          "name": "stdout",
          "text": [
            "\tLoss: train=0.140756 val=0.148868\n",
            "\tAcc : train=0.704721 val=0.680006\n",
            "Epoch 7:\n",
            "\tTraining phase:\n"
          ]
        },
        {
          "output_type": "stream",
          "name": "stderr",
          "text": [
            "100%|██████████| 107/107 [00:00<00:00, 242.92it/s]\n"
          ]
        },
        {
          "output_type": "stream",
          "name": "stdout",
          "text": [
            "\tValidation phase:\n"
          ]
        },
        {
          "output_type": "stream",
          "name": "stderr",
          "text": [
            "100%|██████████| 14/14 [00:00<00:00, 859.26it/s]\n"
          ]
        },
        {
          "output_type": "stream",
          "name": "stdout",
          "text": [
            "\tLoss: train=0.140449 val=0.144436\n",
            "\tAcc : train=0.704782 val=0.713010\n",
            "Epoch 8:\n",
            "\tTraining phase:\n"
          ]
        },
        {
          "output_type": "stream",
          "name": "stderr",
          "text": [
            "100%|██████████| 107/107 [00:00<00:00, 252.16it/s]\n"
          ]
        },
        {
          "output_type": "stream",
          "name": "stdout",
          "text": [
            "\tValidation phase:\n"
          ]
        },
        {
          "output_type": "stream",
          "name": "stderr",
          "text": [
            "100%|██████████| 14/14 [00:00<00:00, 763.28it/s]\n"
          ]
        },
        {
          "output_type": "stream",
          "name": "stdout",
          "text": [
            "\tLoss: train=0.138430 val=0.146519\n",
            "\tAcc : train=0.710507 val=0.702328\n",
            "Epoch 9:\n",
            "\tTraining phase:\n"
          ]
        },
        {
          "output_type": "stream",
          "name": "stderr",
          "text": [
            "100%|██████████| 107/107 [00:00<00:00, 238.95it/s]\n"
          ]
        },
        {
          "output_type": "stream",
          "name": "stdout",
          "text": [
            "\tValidation phase:\n"
          ]
        },
        {
          "output_type": "stream",
          "name": "stderr",
          "text": [
            "100%|██████████| 14/14 [00:00<00:00, 661.05it/s]\n"
          ]
        },
        {
          "output_type": "stream",
          "name": "stdout",
          "text": [
            "\tLoss: train=0.135033 val=0.147864\n",
            "\tAcc : train=0.719707 val=0.686703\n",
            "Epoch 10:\n",
            "\tTraining phase:\n"
          ]
        },
        {
          "output_type": "stream",
          "name": "stderr",
          "text": [
            "100%|██████████| 107/107 [00:00<00:00, 255.76it/s]\n"
          ]
        },
        {
          "output_type": "stream",
          "name": "stdout",
          "text": [
            "\tValidation phase:\n"
          ]
        },
        {
          "output_type": "stream",
          "name": "stderr",
          "text": [
            "100%|██████████| 14/14 [00:00<00:00, 761.49it/s]\n"
          ]
        },
        {
          "output_type": "stream",
          "name": "stdout",
          "text": [
            "\tLoss: train=0.134055 val=0.154655\n",
            "\tAcc : train=0.719591 val=0.668846\n",
            "Epoch 11:\n",
            "\tTraining phase:\n"
          ]
        },
        {
          "output_type": "stream",
          "name": "stderr",
          "text": [
            "100%|██████████| 107/107 [00:00<00:00, 241.37it/s]\n"
          ]
        },
        {
          "output_type": "stream",
          "name": "stdout",
          "text": [
            "\tValidation phase:\n"
          ]
        },
        {
          "output_type": "stream",
          "name": "stderr",
          "text": [
            "100%|██████████| 14/14 [00:00<00:00, 779.04it/s]\n"
          ]
        },
        {
          "output_type": "stream",
          "name": "stdout",
          "text": [
            "\tLoss: train=0.132387 val=0.151607\n",
            "\tAcc : train=0.727094 val=0.694515\n",
            "Epoch 12:\n",
            "\tTraining phase:\n"
          ]
        },
        {
          "output_type": "stream",
          "name": "stderr",
          "text": [
            "100%|██████████| 107/107 [00:00<00:00, 253.91it/s]\n"
          ]
        },
        {
          "output_type": "stream",
          "name": "stdout",
          "text": [
            "\tValidation phase:\n"
          ]
        },
        {
          "output_type": "stream",
          "name": "stderr",
          "text": [
            "100%|██████████| 14/14 [00:00<00:00, 833.34it/s]\n"
          ]
        },
        {
          "output_type": "stream",
          "name": "stdout",
          "text": [
            "\tLoss: train=0.130879 val=0.165087\n",
            "\tAcc : train=0.730075 val=0.662149\n",
            "Epoch 13:\n",
            "\tTraining phase:\n"
          ]
        },
        {
          "output_type": "stream",
          "name": "stderr",
          "text": [
            "100%|██████████| 107/107 [00:00<00:00, 254.29it/s]\n"
          ]
        },
        {
          "output_type": "stream",
          "name": "stdout",
          "text": [
            "\tValidation phase:\n"
          ]
        },
        {
          "output_type": "stream",
          "name": "stderr",
          "text": [
            "100%|██████████| 14/14 [00:00<00:00, 779.96it/s]\n"
          ]
        },
        {
          "output_type": "stream",
          "name": "stdout",
          "text": [
            "\tLoss: train=0.130293 val=0.150545\n",
            "\tAcc : train=0.730191 val=0.690051\n",
            "Epoch 14:\n",
            "\tTraining phase:\n"
          ]
        },
        {
          "output_type": "stream",
          "name": "stderr",
          "text": [
            "100%|██████████| 107/107 [00:00<00:00, 248.31it/s]\n"
          ]
        },
        {
          "output_type": "stream",
          "name": "stdout",
          "text": [
            "\tValidation phase:\n"
          ]
        },
        {
          "output_type": "stream",
          "name": "stderr",
          "text": [
            "100%|██████████| 14/14 [00:00<00:00, 775.15it/s]\n"
          ]
        },
        {
          "output_type": "stream",
          "name": "stdout",
          "text": [
            "\tLoss: train=0.129217 val=0.144687\n",
            "\tAcc : train=0.735332 val=0.703444\n",
            "Epoch 15:\n",
            "\tTraining phase:\n"
          ]
        },
        {
          "output_type": "stream",
          "name": "stderr",
          "text": [
            "100%|██████████| 107/107 [00:00<00:00, 254.76it/s]\n"
          ]
        },
        {
          "output_type": "stream",
          "name": "stdout",
          "text": [
            "\tValidation phase:\n"
          ]
        },
        {
          "output_type": "stream",
          "name": "stderr",
          "text": [
            "100%|██████████| 14/14 [00:00<00:00, 822.47it/s]\n"
          ]
        },
        {
          "output_type": "stream",
          "name": "stdout",
          "text": [
            "\tLoss: train=0.129845 val=0.157217\n",
            "\tAcc : train=0.731535 val=0.676658\n",
            "Epoch 16:\n",
            "\tTraining phase:\n"
          ]
        },
        {
          "output_type": "stream",
          "name": "stderr",
          "text": [
            "100%|██████████| 107/107 [00:00<00:00, 236.60it/s]\n"
          ]
        },
        {
          "output_type": "stream",
          "name": "stdout",
          "text": [
            "\tValidation phase:\n"
          ]
        },
        {
          "output_type": "stream",
          "name": "stderr",
          "text": [
            "100%|██████████| 14/14 [00:00<00:00, 689.16it/s]\n"
          ]
        },
        {
          "output_type": "stream",
          "name": "stdout",
          "text": [
            "\tLoss: train=0.129028 val=0.142539\n",
            "\tAcc : train=0.736560 val=0.715721\n",
            "Epoch 17:\n",
            "\tTraining phase:\n"
          ]
        },
        {
          "output_type": "stream",
          "name": "stderr",
          "text": [
            "100%|██████████| 107/107 [00:00<00:00, 256.09it/s]\n"
          ]
        },
        {
          "output_type": "stream",
          "name": "stdout",
          "text": [
            "\tValidation phase:\n"
          ]
        },
        {
          "output_type": "stream",
          "name": "stderr",
          "text": [
            "100%|██████████| 14/14 [00:00<00:00, 901.78it/s]\n"
          ]
        },
        {
          "output_type": "stream",
          "name": "stdout",
          "text": [
            "\tLoss: train=0.127903 val=0.156480\n",
            "\tAcc : train=0.739128 val=0.678890\n",
            "Epoch 18:\n",
            "\tTraining phase:\n"
          ]
        },
        {
          "output_type": "stream",
          "name": "stderr",
          "text": [
            "100%|██████████| 107/107 [00:00<00:00, 243.54it/s]\n"
          ]
        },
        {
          "output_type": "stream",
          "name": "stdout",
          "text": [
            "\tValidation phase:\n"
          ]
        },
        {
          "output_type": "stream",
          "name": "stderr",
          "text": [
            "100%|██████████| 14/14 [00:00<00:00, 764.33it/s]\n"
          ]
        },
        {
          "output_type": "stream",
          "name": "stdout",
          "text": [
            "\tLoss: train=0.127546 val=0.144231\n",
            "\tAcc : train=0.738867 val=0.710140\n",
            "Epoch 19:\n",
            "\tTraining phase:\n"
          ]
        },
        {
          "output_type": "stream",
          "name": "stderr",
          "text": [
            "100%|██████████| 107/107 [00:00<00:00, 253.85it/s]\n"
          ]
        },
        {
          "output_type": "stream",
          "name": "stdout",
          "text": [
            "\tValidation phase:\n"
          ]
        },
        {
          "output_type": "stream",
          "name": "stderr",
          "text": [
            "100%|██████████| 14/14 [00:00<00:00, 812.95it/s]\n"
          ]
        },
        {
          "output_type": "stream",
          "name": "stdout",
          "text": [
            "\tLoss: train=0.126947 val=0.137542\n",
            "\tAcc : train=0.741233 val=0.721301\n",
            "Epoch 20:\n",
            "\tTraining phase:\n"
          ]
        },
        {
          "output_type": "stream",
          "name": "stderr",
          "text": [
            "100%|██████████| 107/107 [00:00<00:00, 239.90it/s]\n"
          ]
        },
        {
          "output_type": "stream",
          "name": "stdout",
          "text": [
            "\tValidation phase:\n"
          ]
        },
        {
          "output_type": "stream",
          "name": "stderr",
          "text": [
            "100%|██████████| 14/14 [00:00<00:00, 748.03it/s]\n"
          ]
        },
        {
          "output_type": "stream",
          "name": "stdout",
          "text": [
            "\tLoss: train=0.126070 val=0.150907\n",
            "\tAcc : train=0.739013 val=0.694515\n",
            "Epoch 21:\n",
            "\tTraining phase:\n"
          ]
        },
        {
          "output_type": "stream",
          "name": "stderr",
          "text": [
            "100%|██████████| 107/107 [00:00<00:00, 249.32it/s]\n"
          ]
        },
        {
          "output_type": "stream",
          "name": "stdout",
          "text": [
            "\tValidation phase:\n"
          ]
        },
        {
          "output_type": "stream",
          "name": "stderr",
          "text": [
            "100%|██████████| 14/14 [00:00<00:00, 787.00it/s]\n"
          ]
        },
        {
          "output_type": "stream",
          "name": "stdout",
          "text": [
            "\tLoss: train=0.125121 val=0.141699\n",
            "\tAcc : train=0.741757 val=0.716837\n",
            "Epoch 22:\n",
            "\tTraining phase:\n"
          ]
        },
        {
          "output_type": "stream",
          "name": "stderr",
          "text": [
            "100%|██████████| 107/107 [00:00<00:00, 253.86it/s]\n"
          ]
        },
        {
          "output_type": "stream",
          "name": "stdout",
          "text": [
            "\tValidation phase:\n"
          ]
        },
        {
          "output_type": "stream",
          "name": "stderr",
          "text": [
            "100%|██████████| 14/14 [00:00<00:00, 815.09it/s]\n"
          ]
        },
        {
          "output_type": "stream",
          "name": "stdout",
          "text": [
            "\tLoss: train=0.124289 val=0.140877\n",
            "\tAcc : train=0.741787 val=0.717953\n",
            "Epoch 23:\n",
            "\tTraining phase:\n"
          ]
        },
        {
          "output_type": "stream",
          "name": "stderr",
          "text": [
            "100%|██████████| 107/107 [00:00<00:00, 240.11it/s]\n"
          ]
        },
        {
          "output_type": "stream",
          "name": "stdout",
          "text": [
            "\tValidation phase:\n"
          ]
        },
        {
          "output_type": "stream",
          "name": "stderr",
          "text": [
            "100%|██████████| 14/14 [00:00<00:00, 670.95it/s]\n"
          ]
        },
        {
          "output_type": "stream",
          "name": "stdout",
          "text": [
            "\tLoss: train=0.124102 val=0.147745\n",
            "\tAcc : train=0.744093 val=0.697864\n",
            "Epoch 24:\n",
            "\tTraining phase:\n"
          ]
        },
        {
          "output_type": "stream",
          "name": "stderr",
          "text": [
            "100%|██████████| 107/107 [00:00<00:00, 252.35it/s]\n"
          ]
        },
        {
          "output_type": "stream",
          "name": "stdout",
          "text": [
            "\tValidation phase:\n"
          ]
        },
        {
          "output_type": "stream",
          "name": "stderr",
          "text": [
            "100%|██████████| 14/14 [00:00<00:00, 780.59it/s]\n"
          ]
        },
        {
          "output_type": "stream",
          "name": "stdout",
          "text": [
            "\tLoss: train=0.123365 val=0.141818\n",
            "\tAcc : train=0.748182 val=0.720185\n",
            "Epoch 25:\n",
            "\tTraining phase:\n"
          ]
        },
        {
          "output_type": "stream",
          "name": "stderr",
          "text": [
            "100%|██████████| 107/107 [00:00<00:00, 198.18it/s]\n"
          ]
        },
        {
          "output_type": "stream",
          "name": "stdout",
          "text": [
            "\tValidation phase:\n"
          ]
        },
        {
          "output_type": "stream",
          "name": "stderr",
          "text": [
            "100%|██████████| 14/14 [00:00<00:00, 476.11it/s]\n"
          ]
        },
        {
          "output_type": "stream",
          "name": "stdout",
          "text": [
            "\tLoss: train=0.123143 val=0.141778\n",
            "\tAcc : train=0.745846 val=0.715721\n",
            "Epoch 26:\n",
            "\tTraining phase:\n"
          ]
        },
        {
          "output_type": "stream",
          "name": "stderr",
          "text": [
            "100%|██████████| 107/107 [00:00<00:00, 201.19it/s]\n"
          ]
        },
        {
          "output_type": "stream",
          "name": "stdout",
          "text": [
            "\tValidation phase:\n"
          ]
        },
        {
          "output_type": "stream",
          "name": "stderr",
          "text": [
            "100%|██████████| 14/14 [00:00<00:00, 580.31it/s]\n"
          ]
        },
        {
          "output_type": "stream",
          "name": "stdout",
          "text": [
            "\tLoss: train=0.122682 val=0.155909\n",
            "\tAcc : train=0.750227 val=0.684471\n",
            "Epoch 27:\n",
            "\tTraining phase:\n"
          ]
        },
        {
          "output_type": "stream",
          "name": "stderr",
          "text": [
            "100%|██████████| 107/107 [00:00<00:00, 209.35it/s]\n"
          ]
        },
        {
          "output_type": "stream",
          "name": "stdout",
          "text": [
            "\tValidation phase:\n"
          ]
        },
        {
          "output_type": "stream",
          "name": "stderr",
          "text": [
            "100%|██████████| 14/14 [00:00<00:00, 656.20it/s]\n"
          ]
        },
        {
          "output_type": "stream",
          "name": "stdout",
          "text": [
            "\tLoss: train=0.122661 val=0.141623\n",
            "\tAcc : train=0.749496 val=0.722417\n",
            "\tSaving model state_dict...\n",
            "Epoch 28:\n",
            "\tTraining phase:\n"
          ]
        },
        {
          "output_type": "stream",
          "name": "stderr",
          "text": [
            "100%|██████████| 107/107 [00:00<00:00, 179.49it/s]\n"
          ]
        },
        {
          "output_type": "stream",
          "name": "stdout",
          "text": [
            "\tValidation phase:\n"
          ]
        },
        {
          "output_type": "stream",
          "name": "stderr",
          "text": [
            "100%|██████████| 14/14 [00:00<00:00, 386.83it/s]\n"
          ]
        },
        {
          "output_type": "stream",
          "name": "stdout",
          "text": [
            "\tLoss: train=0.122069 val=0.141507\n",
            "\tAcc : train=0.749673 val=0.713967\n",
            "Epoch 29:\n",
            "\tTraining phase:\n"
          ]
        },
        {
          "output_type": "stream",
          "name": "stderr",
          "text": [
            "100%|██████████| 107/107 [00:00<00:00, 221.98it/s]\n"
          ]
        },
        {
          "output_type": "stream",
          "name": "stdout",
          "text": [
            "\tValidation phase:\n"
          ]
        },
        {
          "output_type": "stream",
          "name": "stderr",
          "text": [
            "100%|██████████| 14/14 [00:00<00:00, 639.86it/s]\n"
          ]
        },
        {
          "output_type": "stream",
          "name": "stdout",
          "text": [
            "\tLoss: train=0.121662 val=0.138617\n",
            "\tAcc : train=0.748766 val=0.720185\n",
            "Epoch 30:\n",
            "\tTraining phase:\n"
          ]
        },
        {
          "output_type": "stream",
          "name": "stderr",
          "text": [
            "100%|██████████| 107/107 [00:00<00:00, 248.10it/s]\n"
          ]
        },
        {
          "output_type": "stream",
          "name": "stdout",
          "text": [
            "\tValidation phase:\n"
          ]
        },
        {
          "output_type": "stream",
          "name": "stderr",
          "text": [
            "100%|██████████| 14/14 [00:00<00:00, 818.18it/s]\n"
          ]
        },
        {
          "output_type": "stream",
          "name": "stdout",
          "text": [
            "\tLoss: train=0.120915 val=0.140507\n",
            "\tAcc : train=0.751395 val=0.716837\n",
            "Epoch 31:\n",
            "\tTraining phase:\n"
          ]
        },
        {
          "output_type": "stream",
          "name": "stderr",
          "text": [
            "100%|██████████| 107/107 [00:00<00:00, 243.32it/s]\n"
          ]
        },
        {
          "output_type": "stream",
          "name": "stdout",
          "text": [
            "\tValidation phase:\n"
          ]
        },
        {
          "output_type": "stream",
          "name": "stderr",
          "text": [
            "100%|██████████| 14/14 [00:00<00:00, 758.91it/s]\n"
          ]
        },
        {
          "output_type": "stream",
          "name": "stdout",
          "text": [
            "\tLoss: train=0.120644 val=0.136664\n",
            "\tAcc : train=0.751541 val=0.730708\n",
            "\tSaving model state_dict...\n",
            "Epoch 32:\n",
            "\tTraining phase:\n"
          ]
        },
        {
          "output_type": "stream",
          "name": "stderr",
          "text": [
            "100%|██████████| 107/107 [00:00<00:00, 243.54it/s]\n"
          ]
        },
        {
          "output_type": "stream",
          "name": "stdout",
          "text": [
            "\tValidation phase:\n"
          ]
        },
        {
          "output_type": "stream",
          "name": "stderr",
          "text": [
            "100%|██████████| 14/14 [00:00<00:00, 660.02it/s]\n"
          ]
        },
        {
          "output_type": "stream",
          "name": "stdout",
          "text": [
            "\tLoss: train=0.120400 val=0.139917\n",
            "\tAcc : train=0.753585 val=0.719547\n",
            "Epoch 33:\n",
            "\tTraining phase:\n"
          ]
        },
        {
          "output_type": "stream",
          "name": "stderr",
          "text": [
            "100%|██████████| 107/107 [00:00<00:00, 248.19it/s]\n"
          ]
        },
        {
          "output_type": "stream",
          "name": "stdout",
          "text": [
            "\tValidation phase:\n"
          ]
        },
        {
          "output_type": "stream",
          "name": "stderr",
          "text": [
            "100%|██████████| 14/14 [00:00<00:00, 815.20it/s]\n"
          ]
        },
        {
          "output_type": "stream",
          "name": "stdout",
          "text": [
            "\tLoss: train=0.119985 val=0.138363\n",
            "\tAcc : train=0.753439 val=0.720185\n",
            "Epoch 34:\n",
            "\tTraining phase:\n"
          ]
        },
        {
          "output_type": "stream",
          "name": "stderr",
          "text": [
            "100%|██████████| 107/107 [00:00<00:00, 251.76it/s]\n"
          ]
        },
        {
          "output_type": "stream",
          "name": "stdout",
          "text": [
            "\tValidation phase:\n"
          ]
        },
        {
          "output_type": "stream",
          "name": "stderr",
          "text": [
            "100%|██████████| 14/14 [00:00<00:00, 812.62it/s]\n"
          ]
        },
        {
          "output_type": "stream",
          "name": "stdout",
          "text": [
            "\tLoss: train=0.120369 val=0.141144\n",
            "\tAcc : train=0.749789 val=0.716199\n",
            "Epoch 35:\n",
            "\tTraining phase:\n"
          ]
        },
        {
          "output_type": "stream",
          "name": "stderr",
          "text": [
            "100%|██████████| 107/107 [00:00<00:00, 240.63it/s]\n"
          ]
        },
        {
          "output_type": "stream",
          "name": "stdout",
          "text": [
            "\tValidation phase:\n"
          ]
        },
        {
          "output_type": "stream",
          "name": "stderr",
          "text": [
            "100%|██████████| 14/14 [00:00<00:00, 814.07it/s]\n"
          ]
        },
        {
          "output_type": "stream",
          "name": "stdout",
          "text": [
            "\tLoss: train=0.119855 val=0.140150\n",
            "\tAcc : train=0.753469 val=0.716199\n",
            "Epoch 36:\n",
            "\tTraining phase:\n"
          ]
        },
        {
          "output_type": "stream",
          "name": "stderr",
          "text": [
            "100%|██████████| 107/107 [00:00<00:00, 249.60it/s]\n"
          ]
        },
        {
          "output_type": "stream",
          "name": "stdout",
          "text": [
            "\tValidation phase:\n"
          ]
        },
        {
          "output_type": "stream",
          "name": "stderr",
          "text": [
            "100%|██████████| 14/14 [00:00<00:00, 772.03it/s]\n"
          ]
        },
        {
          "output_type": "stream",
          "name": "stdout",
          "text": [
            "\tLoss: train=0.119634 val=0.144785\n",
            "\tAcc : train=0.753908 val=0.716199\n",
            "Epoch 37:\n",
            "\tTraining phase:\n"
          ]
        },
        {
          "output_type": "stream",
          "name": "stderr",
          "text": [
            "100%|██████████| 107/107 [00:00<00:00, 222.92it/s]\n"
          ]
        },
        {
          "output_type": "stream",
          "name": "stdout",
          "text": [
            "\tValidation phase:\n"
          ]
        },
        {
          "output_type": "stream",
          "name": "stderr",
          "text": [
            "100%|██████████| 14/14 [00:00<00:00, 657.13it/s]\n"
          ]
        },
        {
          "output_type": "stream",
          "name": "stdout",
          "text": [
            "\tLoss: train=0.119303 val=0.140732\n",
            "\tAcc : train=0.754169 val=0.718431\n",
            "Epoch 38:\n",
            "\tTraining phase:\n"
          ]
        },
        {
          "output_type": "stream",
          "name": "stderr",
          "text": [
            "100%|██████████| 107/107 [00:00<00:00, 247.95it/s]\n"
          ]
        },
        {
          "output_type": "stream",
          "name": "stdout",
          "text": [
            "\tValidation phase:\n"
          ]
        },
        {
          "output_type": "stream",
          "name": "stderr",
          "text": [
            "100%|██████████| 14/14 [00:00<00:00, 699.40it/s]\n"
          ]
        },
        {
          "output_type": "stream",
          "name": "stdout",
          "text": [
            "\tLoss: train=0.118861 val=0.140028\n",
            "\tAcc : train=0.755076 val=0.722895\n",
            "Epoch 39:\n",
            "\tTraining phase:\n"
          ]
        },
        {
          "output_type": "stream",
          "name": "stderr",
          "text": [
            "100%|██████████| 107/107 [00:00<00:00, 244.45it/s]\n"
          ]
        },
        {
          "output_type": "stream",
          "name": "stdout",
          "text": [
            "\tValidation phase:\n"
          ]
        },
        {
          "output_type": "stream",
          "name": "stderr",
          "text": [
            "100%|██████████| 14/14 [00:00<00:00, 508.74it/s]\n"
          ]
        },
        {
          "output_type": "stream",
          "name": "stdout",
          "text": [
            "\tLoss: train=0.118996 val=0.138920\n",
            "\tAcc : train=0.757704 val=0.724011\n",
            "Epoch 40:\n",
            "\tTraining phase:\n"
          ]
        },
        {
          "output_type": "stream",
          "name": "stderr",
          "text": [
            "100%|██████████| 107/107 [00:00<00:00, 252.74it/s]\n"
          ]
        },
        {
          "output_type": "stream",
          "name": "stdout",
          "text": [
            "\tValidation phase:\n"
          ]
        },
        {
          "output_type": "stream",
          "name": "stderr",
          "text": [
            "100%|██████████| 14/14 [00:00<00:00, 814.78it/s]\n"
          ]
        },
        {
          "output_type": "stream",
          "name": "stdout",
          "text": [
            "\tLoss: train=0.118732 val=0.139155\n",
            "\tAcc : train=0.758757 val=0.722895\n",
            "Epoch 41:\n",
            "\tTraining phase:\n"
          ]
        },
        {
          "output_type": "stream",
          "name": "stderr",
          "text": [
            "100%|██████████| 107/107 [00:00<00:00, 247.95it/s]\n"
          ]
        },
        {
          "output_type": "stream",
          "name": "stdout",
          "text": [
            "\tValidation phase:\n"
          ]
        },
        {
          "output_type": "stream",
          "name": "stderr",
          "text": [
            "100%|██████████| 14/14 [00:00<00:00, 788.69it/s]\n"
          ]
        },
        {
          "output_type": "stream",
          "name": "stdout",
          "text": [
            "\tLoss: train=0.118584 val=0.139493\n",
            "\tAcc : train=0.756214 val=0.722895\n",
            "Epoch 42:\n",
            "\tTraining phase:\n"
          ]
        },
        {
          "output_type": "stream",
          "name": "stderr",
          "text": [
            "100%|██████████| 107/107 [00:00<00:00, 246.41it/s]\n"
          ]
        },
        {
          "output_type": "stream",
          "name": "stdout",
          "text": [
            "\tValidation phase:\n"
          ]
        },
        {
          "output_type": "stream",
          "name": "stderr",
          "text": [
            "100%|██████████| 14/14 [00:00<00:00, 746.51it/s]\n"
          ]
        },
        {
          "output_type": "stream",
          "name": "stdout",
          "text": [
            "\tLoss: train=0.118596 val=0.141908\n",
            "\tAcc : train=0.758465 val=0.721779\n",
            "Epoch 43:\n",
            "\tTraining phase:\n"
          ]
        },
        {
          "output_type": "stream",
          "name": "stderr",
          "text": [
            "100%|██████████| 107/107 [00:00<00:00, 246.46it/s]\n"
          ]
        },
        {
          "output_type": "stream",
          "name": "stdout",
          "text": [
            "\tValidation phase:\n"
          ]
        },
        {
          "output_type": "stream",
          "name": "stderr",
          "text": [
            "100%|██████████| 14/14 [00:00<00:00, 820.79it/s]\n"
          ]
        },
        {
          "output_type": "stream",
          "name": "stdout",
          "text": [
            "\tLoss: train=0.118653 val=0.146913\n",
            "\tAcc : train=0.756974 val=0.717315\n",
            "Epoch 44:\n",
            "\tTraining phase:\n"
          ]
        },
        {
          "output_type": "stream",
          "name": "stderr",
          "text": [
            "100%|██████████| 107/107 [00:00<00:00, 241.38it/s]\n"
          ]
        },
        {
          "output_type": "stream",
          "name": "stdout",
          "text": [
            "\tValidation phase:\n"
          ]
        },
        {
          "output_type": "stream",
          "name": "stderr",
          "text": [
            "100%|██████████| 14/14 [00:00<00:00, 814.78it/s]\n"
          ]
        },
        {
          "output_type": "stream",
          "name": "stdout",
          "text": [
            "\tLoss: train=0.117994 val=0.143967\n",
            "\tAcc : train=0.759487 val=0.712851\n",
            "Epoch 45:\n",
            "\tTraining phase:\n"
          ]
        },
        {
          "output_type": "stream",
          "name": "stderr",
          "text": [
            "100%|██████████| 107/107 [00:00<00:00, 244.85it/s]\n"
          ]
        },
        {
          "output_type": "stream",
          "name": "stdout",
          "text": [
            "\tValidation phase:\n"
          ]
        },
        {
          "output_type": "stream",
          "name": "stderr",
          "text": [
            "100%|██████████| 14/14 [00:00<00:00, 775.39it/s]\n"
          ]
        },
        {
          "output_type": "stream",
          "name": "stdout",
          "text": [
            "\tLoss: train=0.117573 val=0.141056\n",
            "\tAcc : train=0.759925 val=0.723533\n",
            "Epoch 46:\n",
            "\tTraining phase:\n"
          ]
        },
        {
          "output_type": "stream",
          "name": "stderr",
          "text": [
            "100%|██████████| 107/107 [00:00<00:00, 252.74it/s]\n"
          ]
        },
        {
          "output_type": "stream",
          "name": "stdout",
          "text": [
            "\tValidation phase:\n"
          ]
        },
        {
          "output_type": "stream",
          "name": "stderr",
          "text": [
            "100%|██████████| 14/14 [00:00<00:00, 738.35it/s]\n"
          ]
        },
        {
          "output_type": "stream",
          "name": "stdout",
          "text": [
            "\tLoss: train=0.117382 val=0.141888\n",
            "\tAcc : train=0.761969 val=0.726881\n",
            "Epoch 47:\n",
            "\tTraining phase:\n"
          ]
        },
        {
          "output_type": "stream",
          "name": "stderr",
          "text": [
            "100%|██████████| 107/107 [00:00<00:00, 255.12it/s]\n"
          ]
        },
        {
          "output_type": "stream",
          "name": "stdout",
          "text": [
            "\tValidation phase:\n"
          ]
        },
        {
          "output_type": "stream",
          "name": "stderr",
          "text": [
            "100%|██████████| 14/14 [00:00<00:00, 829.34it/s]\n"
          ]
        },
        {
          "output_type": "stream",
          "name": "stdout",
          "text": [
            "\tLoss: train=0.117081 val=0.144706\n",
            "\tAcc : train=0.760655 val=0.712851\n",
            "Epoch 48:\n",
            "\tTraining phase:\n"
          ]
        },
        {
          "output_type": "stream",
          "name": "stderr",
          "text": [
            "100%|██████████| 107/107 [00:00<00:00, 247.85it/s]\n"
          ]
        },
        {
          "output_type": "stream",
          "name": "stdout",
          "text": [
            "\tValidation phase:\n"
          ]
        },
        {
          "output_type": "stream",
          "name": "stderr",
          "text": [
            "100%|██████████| 14/14 [00:00<00:00, 775.22it/s]\n"
          ]
        },
        {
          "output_type": "stream",
          "name": "stdout",
          "text": [
            "\tLoss: train=0.116995 val=0.141035\n",
            "\tAcc : train=0.760801 val=0.722895\n",
            "Epoch 49:\n",
            "\tTraining phase:\n"
          ]
        },
        {
          "output_type": "stream",
          "name": "stderr",
          "text": [
            "100%|██████████| 107/107 [00:00<00:00, 239.37it/s]\n"
          ]
        },
        {
          "output_type": "stream",
          "name": "stdout",
          "text": [
            "\tValidation phase:\n"
          ]
        },
        {
          "output_type": "stream",
          "name": "stderr",
          "text": [
            "100%|██████████| 14/14 [00:00<00:00, 667.57it/s]\n"
          ]
        },
        {
          "output_type": "stream",
          "name": "stdout",
          "text": [
            "\tLoss: train=0.116781 val=0.141251\n",
            "\tAcc : train=0.761647 val=0.721779\n",
            "Epoch 50:\n",
            "\tTraining phase:\n"
          ]
        },
        {
          "output_type": "stream",
          "name": "stderr",
          "text": [
            "100%|██████████| 107/107 [00:00<00:00, 248.50it/s]\n"
          ]
        },
        {
          "output_type": "stream",
          "name": "stdout",
          "text": [
            "\tValidation phase:\n"
          ]
        },
        {
          "output_type": "stream",
          "name": "stderr",
          "text": [
            "100%|██████████| 14/14 [00:00<00:00, 565.90it/s]\n"
          ]
        },
        {
          "output_type": "stream",
          "name": "stdout",
          "text": [
            "\tLoss: train=0.116656 val=0.142193\n",
            "\tAcc : train=0.762261 val=0.715083\n",
            "Epoch 51:\n",
            "\tTraining phase:\n"
          ]
        },
        {
          "output_type": "stream",
          "name": "stderr",
          "text": [
            "100%|██████████| 107/107 [00:00<00:00, 185.95it/s]\n"
          ]
        },
        {
          "output_type": "stream",
          "name": "stdout",
          "text": [
            "\tValidation phase:\n"
          ]
        },
        {
          "output_type": "stream",
          "name": "stderr",
          "text": [
            "100%|██████████| 14/14 [00:00<00:00, 570.62it/s]\n"
          ]
        },
        {
          "output_type": "stream",
          "name": "stdout",
          "text": [
            "\tLoss: train=0.117465 val=0.142394\n",
            "\tAcc : train=0.755806 val=0.713967\n",
            "Epoch 52:\n",
            "\tTraining phase:\n"
          ]
        },
        {
          "output_type": "stream",
          "name": "stderr",
          "text": [
            "100%|██████████| 107/107 [00:00<00:00, 211.91it/s]\n"
          ]
        },
        {
          "output_type": "stream",
          "name": "stdout",
          "text": [
            "\tValidation phase:\n"
          ]
        },
        {
          "output_type": "stream",
          "name": "stderr",
          "text": [
            "100%|██████████| 14/14 [00:00<00:00, 702.87it/s]\n"
          ]
        },
        {
          "output_type": "stream",
          "name": "stdout",
          "text": [
            "\tLoss: train=0.116334 val=0.137830\n",
            "\tAcc : train=0.761093 val=0.723533\n",
            "Epoch 53:\n",
            "\tTraining phase:\n"
          ]
        },
        {
          "output_type": "stream",
          "name": "stderr",
          "text": [
            "100%|██████████| 107/107 [00:00<00:00, 192.43it/s]\n"
          ]
        },
        {
          "output_type": "stream",
          "name": "stdout",
          "text": [
            "\tValidation phase:\n"
          ]
        },
        {
          "output_type": "stream",
          "name": "stderr",
          "text": [
            "100%|██████████| 14/14 [00:00<00:00, 516.42it/s]\n"
          ]
        },
        {
          "output_type": "stream",
          "name": "stdout",
          "text": [
            "\tLoss: train=0.116018 val=0.139463\n",
            "\tAcc : train=0.761677 val=0.724011\n",
            "Epoch 54:\n",
            "\tTraining phase:\n"
          ]
        },
        {
          "output_type": "stream",
          "name": "stderr",
          "text": [
            "100%|██████████| 107/107 [00:00<00:00, 176.41it/s]\n"
          ]
        },
        {
          "output_type": "stream",
          "name": "stdout",
          "text": [
            "\tValidation phase:\n"
          ]
        },
        {
          "output_type": "stream",
          "name": "stderr",
          "text": [
            "100%|██████████| 14/14 [00:00<00:00, 621.27it/s]\n"
          ]
        },
        {
          "output_type": "stream",
          "name": "stdout",
          "text": [
            "\tLoss: train=0.116261 val=0.140189\n",
            "\tAcc : train=0.764044 val=0.722895\n",
            "Epoch 55:\n",
            "\tTraining phase:\n"
          ]
        },
        {
          "output_type": "stream",
          "name": "stderr",
          "text": [
            "100%|██████████| 107/107 [00:00<00:00, 247.18it/s]\n"
          ]
        },
        {
          "output_type": "stream",
          "name": "stdout",
          "text": [
            "\tValidation phase:\n"
          ]
        },
        {
          "output_type": "stream",
          "name": "stderr",
          "text": [
            "100%|██████████| 14/14 [00:00<00:00, 738.80it/s]\n"
          ]
        },
        {
          "output_type": "stream",
          "name": "stdout",
          "text": [
            "\tLoss: train=0.115616 val=0.141058\n",
            "\tAcc : train=0.764044 val=0.722895\n",
            "Epoch 56:\n",
            "\tTraining phase:\n"
          ]
        },
        {
          "output_type": "stream",
          "name": "stderr",
          "text": [
            "100%|██████████| 107/107 [00:00<00:00, 251.82it/s]\n"
          ]
        },
        {
          "output_type": "stream",
          "name": "stdout",
          "text": [
            "\tValidation phase:\n"
          ]
        },
        {
          "output_type": "stream",
          "name": "stderr",
          "text": [
            "100%|██████████| 14/14 [00:00<00:00, 782.46it/s]\n"
          ]
        },
        {
          "output_type": "stream",
          "name": "stdout",
          "text": [
            "\tLoss: train=0.117172 val=0.138776\n",
            "\tAcc : train=0.760363 val=0.730708\n",
            "Epoch 57:\n",
            "\tTraining phase:\n"
          ]
        },
        {
          "output_type": "stream",
          "name": "stderr",
          "text": [
            "100%|██████████| 107/107 [00:00<00:00, 236.49it/s]\n"
          ]
        },
        {
          "output_type": "stream",
          "name": "stdout",
          "text": [
            "\tValidation phase:\n"
          ]
        },
        {
          "output_type": "stream",
          "name": "stderr",
          "text": [
            "100%|██████████| 14/14 [00:00<00:00, 564.87it/s]\n"
          ]
        },
        {
          "output_type": "stream",
          "name": "stdout",
          "text": [
            "\tLoss: train=0.116273 val=0.142204\n",
            "\tAcc : train=0.760977 val=0.727997\n",
            "Epoch 58:\n",
            "\tTraining phase:\n"
          ]
        },
        {
          "output_type": "stream",
          "name": "stderr",
          "text": [
            "100%|██████████| 107/107 [00:00<00:00, 239.49it/s]\n"
          ]
        },
        {
          "output_type": "stream",
          "name": "stdout",
          "text": [
            "\tValidation phase:\n"
          ]
        },
        {
          "output_type": "stream",
          "name": "stderr",
          "text": [
            "100%|██████████| 14/14 [00:00<00:00, 619.67it/s]\n"
          ]
        },
        {
          "output_type": "stream",
          "name": "stdout",
          "text": [
            "\tLoss: train=0.115944 val=0.139861\n",
            "\tAcc : train=0.761853 val=0.720663\n",
            "Epoch 59:\n",
            "\tTraining phase:\n"
          ]
        },
        {
          "output_type": "stream",
          "name": "stderr",
          "text": [
            "100%|██████████| 107/107 [00:00<00:00, 238.61it/s]\n"
          ]
        },
        {
          "output_type": "stream",
          "name": "stdout",
          "text": [
            "\tValidation phase:\n"
          ]
        },
        {
          "output_type": "stream",
          "name": "stderr",
          "text": [
            "100%|██████████| 14/14 [00:00<00:00, 621.77it/s]\n"
          ]
        },
        {
          "output_type": "stream",
          "name": "stdout",
          "text": [
            "\tLoss: train=0.115914 val=0.137148\n",
            "\tAcc : train=0.760071 val=0.734694\n",
            "\tSaving model state_dict...\n",
            "Epoch 60:\n",
            "\tTraining phase:\n"
          ]
        },
        {
          "output_type": "stream",
          "name": "stderr",
          "text": [
            "100%|██████████| 107/107 [00:00<00:00, 247.99it/s]\n"
          ]
        },
        {
          "output_type": "stream",
          "name": "stdout",
          "text": [
            "\tValidation phase:\n"
          ]
        },
        {
          "output_type": "stream",
          "name": "stderr",
          "text": [
            "100%|██████████| 14/14 [00:00<00:00, 792.18it/s]\n"
          ]
        },
        {
          "output_type": "stream",
          "name": "stdout",
          "text": [
            "\tLoss: train=0.115285 val=0.136227\n",
            "\tAcc : train=0.761853 val=0.724011\n",
            "Epoch 61:\n",
            "\tTraining phase:\n"
          ]
        },
        {
          "output_type": "stream",
          "name": "stderr",
          "text": [
            "100%|██████████| 107/107 [00:00<00:00, 236.17it/s]\n"
          ]
        },
        {
          "output_type": "stream",
          "name": "stdout",
          "text": [
            "\tValidation phase:\n"
          ]
        },
        {
          "output_type": "stream",
          "name": "stderr",
          "text": [
            "100%|██████████| 14/14 [00:00<00:00, 561.77it/s]\n"
          ]
        },
        {
          "output_type": "stream",
          "name": "stdout",
          "text": [
            "\tLoss: train=0.116059 val=0.139121\n",
            "\tAcc : train=0.759633 val=0.725128\n",
            "Epoch 62:\n",
            "\tTraining phase:\n"
          ]
        },
        {
          "output_type": "stream",
          "name": "stderr",
          "text": [
            "100%|██████████| 107/107 [00:00<00:00, 254.97it/s]\n"
          ]
        },
        {
          "output_type": "stream",
          "name": "stdout",
          "text": [
            "\tValidation phase:\n"
          ]
        },
        {
          "output_type": "stream",
          "name": "stderr",
          "text": [
            "100%|██████████| 14/14 [00:00<00:00, 862.77it/s]\n"
          ]
        },
        {
          "output_type": "stream",
          "name": "stdout",
          "text": [
            "\tLoss: train=0.115493 val=0.135203\n",
            "\tAcc : train=0.759779 val=0.725128\n",
            "Epoch 63:\n",
            "\tTraining phase:\n"
          ]
        },
        {
          "output_type": "stream",
          "name": "stderr",
          "text": [
            "100%|██████████| 107/107 [00:00<00:00, 242.01it/s]\n"
          ]
        },
        {
          "output_type": "stream",
          "name": "stdout",
          "text": [
            "\tValidation phase:\n"
          ]
        },
        {
          "output_type": "stream",
          "name": "stderr",
          "text": [
            "100%|██████████| 14/14 [00:00<00:00, 787.45it/s]\n"
          ]
        },
        {
          "output_type": "stream",
          "name": "stdout",
          "text": [
            "\tLoss: train=0.115644 val=0.137095\n",
            "\tAcc : train=0.763722 val=0.727997\n",
            "Epoch 64:\n",
            "\tTraining phase:\n"
          ]
        },
        {
          "output_type": "stream",
          "name": "stderr",
          "text": [
            "100%|██████████| 107/107 [00:00<00:00, 248.72it/s]\n"
          ]
        },
        {
          "output_type": "stream",
          "name": "stdout",
          "text": [
            "\tValidation phase:\n"
          ]
        },
        {
          "output_type": "stream",
          "name": "stderr",
          "text": [
            "100%|██████████| 14/14 [00:00<00:00, 806.25it/s]\n"
          ]
        },
        {
          "output_type": "stream",
          "name": "stdout",
          "text": [
            "\tLoss: train=0.114591 val=0.134988\n",
            "\tAcc : train=0.764774 val=0.720663\n",
            "Epoch 65:\n",
            "\tTraining phase:\n"
          ]
        },
        {
          "output_type": "stream",
          "name": "stderr",
          "text": [
            "100%|██████████| 107/107 [00:00<00:00, 244.57it/s]\n"
          ]
        },
        {
          "output_type": "stream",
          "name": "stdout",
          "text": [
            "\tValidation phase:\n"
          ]
        },
        {
          "output_type": "stream",
          "name": "stderr",
          "text": [
            "100%|██████████| 14/14 [00:00<00:00, 602.77it/s]\n"
          ]
        },
        {
          "output_type": "stream",
          "name": "stdout",
          "text": [
            "\tLoss: train=0.114517 val=0.137974\n",
            "\tAcc : train=0.767342 val=0.719547\n",
            "Epoch 66:\n",
            "\tTraining phase:\n"
          ]
        },
        {
          "output_type": "stream",
          "name": "stderr",
          "text": [
            "100%|██████████| 107/107 [00:00<00:00, 251.87it/s]\n"
          ]
        },
        {
          "output_type": "stream",
          "name": "stdout",
          "text": [
            "\tValidation phase:\n"
          ]
        },
        {
          "output_type": "stream",
          "name": "stderr",
          "text": [
            "100%|██████████| 14/14 [00:00<00:00, 788.22it/s]\n"
          ]
        },
        {
          "output_type": "stream",
          "name": "stdout",
          "text": [
            "\tLoss: train=0.114587 val=0.138341\n",
            "\tAcc : train=0.766642 val=0.724011\n",
            "Epoch 67:\n",
            "\tTraining phase:\n"
          ]
        },
        {
          "output_type": "stream",
          "name": "stderr",
          "text": [
            "100%|██████████| 107/107 [00:00<00:00, 253.87it/s]\n"
          ]
        },
        {
          "output_type": "stream",
          "name": "stdout",
          "text": [
            "\tValidation phase:\n"
          ]
        },
        {
          "output_type": "stream",
          "name": "stderr",
          "text": [
            "100%|██████████| 14/14 [00:00<00:00, 776.24it/s]\n"
          ]
        },
        {
          "output_type": "stream",
          "name": "stdout",
          "text": [
            "\tLoss: train=0.113862 val=0.140257\n",
            "\tAcc : train=0.768717 val=0.720663\n",
            "Epoch 68:\n",
            "\tTraining phase:\n"
          ]
        },
        {
          "output_type": "stream",
          "name": "stderr",
          "text": [
            "100%|██████████| 107/107 [00:00<00:00, 239.92it/s]\n"
          ]
        },
        {
          "output_type": "stream",
          "name": "stdout",
          "text": [
            "\tValidation phase:\n"
          ]
        },
        {
          "output_type": "stream",
          "name": "stderr",
          "text": [
            "100%|██████████| 14/14 [00:00<00:00, 619.61it/s]\n"
          ]
        },
        {
          "output_type": "stream",
          "name": "stdout",
          "text": [
            "\tLoss: train=0.113472 val=0.136601\n",
            "\tAcc : train=0.766818 val=0.722895\n",
            "Epoch 69:\n",
            "\tTraining phase:\n"
          ]
        },
        {
          "output_type": "stream",
          "name": "stderr",
          "text": [
            "100%|██████████| 107/107 [00:00<00:00, 255.20it/s]\n"
          ]
        },
        {
          "output_type": "stream",
          "name": "stdout",
          "text": [
            "\tValidation phase:\n"
          ]
        },
        {
          "output_type": "stream",
          "name": "stderr",
          "text": [
            "100%|██████████| 14/14 [00:00<00:00, 819.44it/s]\n"
          ]
        },
        {
          "output_type": "stream",
          "name": "stdout",
          "text": [
            "\tLoss: train=0.112789 val=0.138930\n",
            "\tAcc : train=0.769009 val=0.713967\n",
            "Epoch 70:\n",
            "\tTraining phase:\n"
          ]
        },
        {
          "output_type": "stream",
          "name": "stderr",
          "text": [
            "100%|██████████| 107/107 [00:00<00:00, 242.34it/s]\n"
          ]
        },
        {
          "output_type": "stream",
          "name": "stdout",
          "text": [
            "\tValidation phase:\n"
          ]
        },
        {
          "output_type": "stream",
          "name": "stderr",
          "text": [
            "100%|██████████| 14/14 [00:00<00:00, 923.99it/s]\n"
          ]
        },
        {
          "output_type": "stream",
          "name": "stdout",
          "text": [
            "\tLoss: train=0.112793 val=0.137264\n",
            "\tAcc : train=0.772221 val=0.722895\n",
            "Epoch 71:\n",
            "\tTraining phase:\n"
          ]
        },
        {
          "output_type": "stream",
          "name": "stderr",
          "text": [
            "100%|██████████| 107/107 [00:00<00:00, 249.85it/s]\n"
          ]
        },
        {
          "output_type": "stream",
          "name": "stdout",
          "text": [
            "\tValidation phase:\n"
          ]
        },
        {
          "output_type": "stream",
          "name": "stderr",
          "text": [
            "100%|██████████| 14/14 [00:00<00:00, 715.01it/s]\n"
          ]
        },
        {
          "output_type": "stream",
          "name": "stdout",
          "text": [
            "\tLoss: train=0.113771 val=0.137513\n",
            "\tAcc : train=0.768394 val=0.728476\n",
            "Epoch 72:\n",
            "\tTraining phase:\n"
          ]
        },
        {
          "output_type": "stream",
          "name": "stderr",
          "text": [
            "100%|██████████| 107/107 [00:00<00:00, 241.41it/s]\n"
          ]
        },
        {
          "output_type": "stream",
          "name": "stdout",
          "text": [
            "\tValidation phase:\n"
          ]
        },
        {
          "output_type": "stream",
          "name": "stderr",
          "text": [
            "100%|██████████| 14/14 [00:00<00:00, 695.91it/s]\n"
          ]
        },
        {
          "output_type": "stream",
          "name": "stdout",
          "text": [
            "\tLoss: train=0.112678 val=0.138560\n",
            "\tAcc : train=0.773390 val=0.720663\n",
            "Epoch 73:\n",
            "\tTraining phase:\n"
          ]
        },
        {
          "output_type": "stream",
          "name": "stderr",
          "text": [
            "100%|██████████| 107/107 [00:00<00:00, 255.68it/s]\n"
          ]
        },
        {
          "output_type": "stream",
          "name": "stdout",
          "text": [
            "\tValidation phase:\n"
          ]
        },
        {
          "output_type": "stream",
          "name": "stderr",
          "text": [
            "100%|██████████| 14/14 [00:00<00:00, 794.68it/s]\n"
          ]
        },
        {
          "output_type": "stream",
          "name": "stdout",
          "text": [
            "\tLoss: train=0.112537 val=0.136839\n",
            "\tAcc : train=0.769009 val=0.724011\n",
            "Epoch 74:\n",
            "\tTraining phase:\n"
          ]
        },
        {
          "output_type": "stream",
          "name": "stderr",
          "text": [
            "100%|██████████| 107/107 [00:00<00:00, 235.02it/s]\n"
          ]
        },
        {
          "output_type": "stream",
          "name": "stdout",
          "text": [
            "\tValidation phase:\n"
          ]
        },
        {
          "output_type": "stream",
          "name": "stderr",
          "text": [
            "100%|██████████| 14/14 [00:00<00:00, 655.26it/s]\n"
          ]
        },
        {
          "output_type": "stream",
          "name": "stdout",
          "text": [
            "\tLoss: train=0.112033 val=0.140053\n",
            "\tAcc : train=0.773974 val=0.720663\n",
            "Epoch 75:\n",
            "\tTraining phase:\n"
          ]
        },
        {
          "output_type": "stream",
          "name": "stderr",
          "text": [
            "100%|██████████| 107/107 [00:00<00:00, 250.51it/s]\n"
          ]
        },
        {
          "output_type": "stream",
          "name": "stdout",
          "text": [
            "\tValidation phase:\n"
          ]
        },
        {
          "output_type": "stream",
          "name": "stderr",
          "text": [
            "100%|██████████| 14/14 [00:00<00:00, 795.02it/s]\n"
          ]
        },
        {
          "output_type": "stream",
          "name": "stdout",
          "text": [
            "\tLoss: train=0.112414 val=0.135676\n",
            "\tAcc : train=0.773682 val=0.729592\n",
            "Epoch 76:\n",
            "\tTraining phase:\n"
          ]
        },
        {
          "output_type": "stream",
          "name": "stderr",
          "text": [
            "100%|██████████| 107/107 [00:00<00:00, 218.86it/s]\n"
          ]
        },
        {
          "output_type": "stream",
          "name": "stdout",
          "text": [
            "\tValidation phase:\n"
          ]
        },
        {
          "output_type": "stream",
          "name": "stderr",
          "text": [
            "100%|██████████| 14/14 [00:00<00:00, 528.56it/s]\n"
          ]
        },
        {
          "output_type": "stream",
          "name": "stdout",
          "text": [
            "\tLoss: train=0.111518 val=0.138757\n",
            "\tAcc : train=0.772075 val=0.721779\n",
            "Epoch 77:\n",
            "\tTraining phase:\n"
          ]
        },
        {
          "output_type": "stream",
          "name": "stderr",
          "text": [
            "100%|██████████| 107/107 [00:00<00:00, 190.49it/s]\n"
          ]
        },
        {
          "output_type": "stream",
          "name": "stdout",
          "text": [
            "\tValidation phase:\n"
          ]
        },
        {
          "output_type": "stream",
          "name": "stderr",
          "text": [
            "100%|██████████| 14/14 [00:00<00:00, 583.50it/s]\n"
          ]
        },
        {
          "output_type": "stream",
          "name": "stdout",
          "text": [
            "\tLoss: train=0.111624 val=0.137148\n",
            "\tAcc : train=0.772221 val=0.721779\n",
            "Epoch 78:\n",
            "\tTraining phase:\n"
          ]
        },
        {
          "output_type": "stream",
          "name": "stderr",
          "text": [
            "100%|██████████| 107/107 [00:00<00:00, 193.60it/s]\n"
          ]
        },
        {
          "output_type": "stream",
          "name": "stdout",
          "text": [
            "\tValidation phase:\n"
          ]
        },
        {
          "output_type": "stream",
          "name": "stderr",
          "text": [
            "100%|██████████| 14/14 [00:00<00:00, 488.15it/s]\n"
          ]
        },
        {
          "output_type": "stream",
          "name": "stdout",
          "text": [
            "\tLoss: train=0.111371 val=0.137297\n",
            "\tAcc : train=0.776018 val=0.726244\n",
            "Epoch 79:\n",
            "\tTraining phase:\n"
          ]
        },
        {
          "output_type": "stream",
          "name": "stderr",
          "text": [
            "100%|██████████| 107/107 [00:00<00:00, 185.83it/s]\n"
          ]
        },
        {
          "output_type": "stream",
          "name": "stdout",
          "text": [
            "\tValidation phase:\n"
          ]
        },
        {
          "output_type": "stream",
          "name": "stderr",
          "text": [
            "100%|██████████| 14/14 [00:00<00:00, 512.10it/s]\n"
          ]
        },
        {
          "output_type": "stream",
          "name": "stdout",
          "text": [
            "\tLoss: train=0.111254 val=0.137403\n",
            "\tAcc : train=0.774266 val=0.719547\n",
            "Epoch 80:\n",
            "\tTraining phase:\n"
          ]
        },
        {
          "output_type": "stream",
          "name": "stderr",
          "text": [
            "100%|██████████| 107/107 [00:00<00:00, 192.20it/s]\n"
          ]
        },
        {
          "output_type": "stream",
          "name": "stdout",
          "text": [
            "\tValidation phase:\n"
          ]
        },
        {
          "output_type": "stream",
          "name": "stderr",
          "text": [
            "100%|██████████| 14/14 [00:00<00:00, 630.36it/s]\n"
          ]
        },
        {
          "output_type": "stream",
          "name": "stdout",
          "text": [
            "\tLoss: train=0.110786 val=0.135225\n",
            "\tAcc : train=0.775872 val=0.725128\n",
            "Epoch 81:\n",
            "\tTraining phase:\n"
          ]
        },
        {
          "output_type": "stream",
          "name": "stderr",
          "text": [
            "100%|██████████| 107/107 [00:00<00:00, 261.78it/s]\n"
          ]
        },
        {
          "output_type": "stream",
          "name": "stdout",
          "text": [
            "\tValidation phase:\n"
          ]
        },
        {
          "output_type": "stream",
          "name": "stderr",
          "text": [
            "100%|██████████| 14/14 [00:00<00:00, 695.00it/s]\n"
          ]
        },
        {
          "output_type": "stream",
          "name": "stdout",
          "text": [
            "\tLoss: train=0.110590 val=0.136180\n",
            "\tAcc : train=0.772806 val=0.730708\n",
            "Epoch 82:\n",
            "\tTraining phase:\n"
          ]
        },
        {
          "output_type": "stream",
          "name": "stderr",
          "text": [
            "100%|██████████| 107/107 [00:00<00:00, 238.39it/s]\n"
          ]
        },
        {
          "output_type": "stream",
          "name": "stdout",
          "text": [
            "\tValidation phase:\n"
          ]
        },
        {
          "output_type": "stream",
          "name": "stderr",
          "text": [
            "100%|██████████| 14/14 [00:00<00:00, 799.88it/s]\n"
          ]
        },
        {
          "output_type": "stream",
          "name": "stdout",
          "text": [
            "\tLoss: train=0.110220 val=0.137915\n",
            "\tAcc : train=0.775288 val=0.722895\n",
            "Epoch 83:\n",
            "\tTraining phase:\n"
          ]
        },
        {
          "output_type": "stream",
          "name": "stderr",
          "text": [
            "100%|██████████| 107/107 [00:00<00:00, 251.23it/s]\n"
          ]
        },
        {
          "output_type": "stream",
          "name": "stdout",
          "text": [
            "\tValidation phase:\n"
          ]
        },
        {
          "output_type": "stream",
          "name": "stderr",
          "text": [
            "100%|██████████| 14/14 [00:00<00:00, 701.34it/s]\n"
          ]
        },
        {
          "output_type": "stream",
          "name": "stdout",
          "text": [
            "\tLoss: train=0.110292 val=0.137326\n",
            "\tAcc : train=0.776310 val=0.721779\n",
            "Epoch 84:\n",
            "\tTraining phase:\n"
          ]
        },
        {
          "output_type": "stream",
          "name": "stderr",
          "text": [
            "100%|██████████| 107/107 [00:00<00:00, 244.22it/s]\n"
          ]
        },
        {
          "output_type": "stream",
          "name": "stdout",
          "text": [
            "\tValidation phase:\n"
          ]
        },
        {
          "output_type": "stream",
          "name": "stderr",
          "text": [
            "100%|██████████| 14/14 [00:00<00:00, 758.03it/s]\n"
          ]
        },
        {
          "output_type": "stream",
          "name": "stdout",
          "text": [
            "\tLoss: train=0.110399 val=0.138194\n",
            "\tAcc : train=0.771023 val=0.717953\n",
            "\tEarly stopping (patience reached).\n"
          ]
        },
        {
          "output_type": "display_data",
          "data": {
            "text/plain": [
              "<Figure size 1400x500 with 2 Axes>"
            ],
            "image/png": "[encoded data removed]"
          },
          "metadata": {}
        },
        {
          "output_type": "stream",
          "name": "stdout",
          "text": [
            "\tTesting:\n"
          ]
        },
        {
          "output_type": "stream",
          "name": "stderr",
          "text": [
            "100%|██████████| 14/14 [00:00<00:00, 724.13it/s]"
          ]
        },
        {
          "output_type": "stream",
          "name": "stdout",
          "text": [
            "\tTesting accuracy: 0.7155612244897959% \n"
          ]
        },
        {
          "output_type": "stream",
          "name": "stderr",
          "text": [
            "\n"
          ]
        }
      ],
      "source": [
        "import argparse\n",
        "import os\n",
        "import pickle\n",
        "import sys\n",
        "import time\n",
        "\n",
        "import matplotlib.pyplot as plt\n",
        "import numpy as np\n",
        "import torch\n",
        "from sklearn.covariance import EllipticEnvelope\n",
        "from tqdm import tqdm\n",
        "\n",
        "from arguments import arguments, Arguments\n",
        "from generate_datasets import get_loader_function, produce_splits\n",
        "# from model_2 import Model2\n",
        "from model_3 import Model3\n",
        "# from model_4 import Model4\n",
        "\n",
        "\n",
        "# -------------------------- Plotting -------------------------- #\n",
        "\n",
        "def plot_training_history(train_acc_hist, val_acc_hist, train_loss_hist, val_loss_hist):\n",
        "    \"\"\"Plot training/validation loss & accuracy.\"\"\"\n",
        "    epochs = range(1, len(train_acc_hist) + 1)\n",
        "    plt.figure(figsize=(14, 5))\n",
        "\n",
        "    # Loss\n",
        "    plt.subplot(1, 2, 1)\n",
        "    plt.plot(epochs, train_loss_hist, label='Training Loss')\n",
        "    plt.plot(epochs, val_loss_hist, label='Validation Loss')\n",
        "    plt.xlabel('Epochs')\n",
        "    plt.ylabel('Loss')\n",
        "    plt.title('Training vs Validation Loss')\n",
        "    plt.legend()\n",
        "\n",
        "    # Accuracy\n",
        "    plt.subplot(1, 2, 2)\n",
        "    plt.plot(epochs, train_acc_hist, label='Training Accuracy')\n",
        "    plt.plot(epochs, val_acc_hist, label='Validation Accuracy')\n",
        "    plt.xlabel('Epochs')\n",
        "    plt.ylabel('Accuracy')\n",
        "    plt.title('Training vs Validation Accuracy')\n",
        "    plt.legend()\n",
        "\n",
        "    plt.tight_layout()\n",
        "    plt.savefig(os.path.join(\"training_curves.png\"))\n",
        "    plt.show()\n",
        "\n",
        "\n",
        "# -------------------------- Training / Inference -------------------------- #\n",
        "\n",
        "def train_network(x_train: np.ndarray, y_train: np.ndarray,\n",
        "                  x_val: np.ndarray, y_val: np.ndarray,\n",
        "                  model, args: Arguments):\n",
        "    \"\"\"\n",
        "    Train and validate model.\n",
        "    \"\"\"\n",
        "    device = next(model.parameters()).device\n",
        "\n",
        "    training_acc_history = []\n",
        "    validation_acc_history = []\n",
        "    train_loss_history = []\n",
        "    val_loss_history = []\n",
        "    training_time = []\n",
        "    validation_time = []\n",
        "\n",
        "    os.makedirs(args.output_dir, exist_ok=True)\n",
        "\n",
        "    best_val_acc = -np.inf\n",
        "    best_path = os.path.join(args.output_dir, args.run_idx + \"_model.pt\")\n",
        "\n",
        "    for current_epoch in range(args.epochs):\n",
        "        torch.enable_grad()\n",
        "        model.train()\n",
        "        for p in model.parameters():\n",
        "            p.requires_grad = True\n",
        "\n",
        "        print(f\"Epoch {current_epoch}:\")\n",
        "        print(\"\\tTraining phase:\")\n",
        "\n",
        "        begin = time.time()\n",
        "\n",
        "        x_train_list = [x_train[i:i + args.batch_size] for i in range(0, len(x_train), args.batch_size)]\n",
        "        y_train_list = [y_train[i:i + args.batch_size] for i in range(0, len(y_train), args.batch_size)]\n",
        "\n",
        "        batch_losses = []\n",
        "        batch_accs = []\n",
        "\n",
        "        for x, y in tqdm(zip(x_train_list, y_train_list), total=len(x_train_list)):\n",
        "            # keep your original convention: one-hot float labels\n",
        "            x = torch.from_numpy(x.astype(np.float32)).unsqueeze(1).to(device)\n",
        "            y = torch.from_numpy(y.astype(np.float32)).to(device)\n",
        "\n",
        "            model.optimizer.zero_grad()\n",
        "\n",
        "            out = model(x, y, infer=False)\n",
        "            loss = model.loss(out, y)\n",
        "\n",
        "            batch_losses.append(loss.detach().cpu().item())\n",
        "\n",
        "            acc = (torch.argmax(out, dim=1) == torch.argmax(y, dim=1)).sum().double() / y.shape[0]\n",
        "            batch_accs.append(acc.detach().cpu().item())\n",
        "\n",
        "            loss.backward()\n",
        "            model.optimizer.step()\n",
        "\n",
        "        training_time.append(time.time() - begin)\n",
        "\n",
        "        # ---------------- Validation ----------------\n",
        "        print(\"\\tValidation phase:\")\n",
        "        model.eval()\n",
        "        for p in model.parameters():\n",
        "            p.requires_grad = False\n",
        "\n",
        "        begin = time.time()\n",
        "\n",
        "        x_val_list = [x_val[i:i + args.batch_size] for i in range(0, len(x_val), args.batch_size)]\n",
        "        y_val_list = [y_val[i:i + args.batch_size] for i in range(0, len(y_val), args.batch_size)]\n",
        "\n",
        "        val_batch_accs = []\n",
        "        val_batch_losses = []\n",
        "\n",
        "        with torch.no_grad():\n",
        "            for x, y in tqdm(zip(x_val_list, y_val_list), total=len(x_val_list)):\n",
        "                x = torch.from_numpy(x.astype(np.float32)).unsqueeze(1).to(device)\n",
        "                y = torch.from_numpy(y.astype(np.float32)).to(device)\n",
        "\n",
        "                out = model(x, y, infer=False)\n",
        "                loss = model.loss(out, y)\n",
        "\n",
        "                acc = (torch.argmax(out, dim=1) == torch.argmax(y, dim=1)).sum().double() / y.shape[0]\n",
        "\n",
        "                val_batch_losses.append(loss.detach().cpu().item())\n",
        "                val_batch_accs.append(acc.detach().cpu().item())\n",
        "\n",
        "        validation_time.append(time.time() - begin)\n",
        "\n",
        "        # ---------------- Logging ----------------\n",
        "        train_loss = float(np.mean(batch_losses))\n",
        "        val_loss = float(np.mean(val_batch_losses))\n",
        "        train_acc = float(np.mean(batch_accs))\n",
        "        val_acc = float(np.mean(val_batch_accs))\n",
        "\n",
        "        train_loss_history.append(train_loss)\n",
        "        val_loss_history.append(val_loss)\n",
        "        training_acc_history.append(train_acc)\n",
        "        validation_acc_history.append(val_acc)\n",
        "\n",
        "        print(f\"\\tLoss: train={train_loss:.6f} val={val_loss:.6f}\")\n",
        "        print(f\"\\tAcc : train={train_acc:.6f} val={val_acc:.6f}\")\n",
        "\n",
        "        # Persist histories\n",
        "        pickle.dump(training_acc_history,\n",
        "                    open(os.path.join(args.output_dir, args.run_idx + \"_training_history.pkl\"), \"wb\"))\n",
        "        pickle.dump(validation_acc_history,\n",
        "                    open(os.path.join(args.output_dir, args.run_idx + \"_validation_history.pkl\"), \"wb\"))\n",
        "        pickle.dump(train_loss_history,\n",
        "                    open(os.path.join(args.output_dir, args.run_idx + \"_train_loss_history.pkl\"), \"wb\"))\n",
        "        pickle.dump(val_loss_history,\n",
        "                    open(os.path.join(args.output_dir, args.run_idx + \"_val_loss_history.pkl\"), \"wb\"))\n",
        "        pickle.dump(training_time,\n",
        "                    open(os.path.join(args.output_dir, args.run_idx + \"_time_training.pkl\"), \"wb\"))\n",
        "        pickle.dump(validation_time,\n",
        "                    open(os.path.join(args.output_dir, args.run_idx + \"_time_validation.pkl\"), \"wb\"))\n",
        "\n",
        "        # Save best weights (state_dict)\n",
        "        if val_acc > best_val_acc:\n",
        "            best_val_acc = val_acc\n",
        "            print(\"\\tSaving model state_dict...\")\n",
        "            torch.save(model.state_dict(), best_path)\n",
        "\n",
        "        # Early stopping\n",
        "        if current_epoch > args.patience:\n",
        "            window_old = validation_acc_history[:-args.patience]\n",
        "            window_new = validation_acc_history[-args.patience:]\n",
        "            if len(window_old) > 0 and max(window_old) > max(window_new):\n",
        "                print(\"\\tEarly stopping (patience reached).\")\n",
        "                break\n",
        "\n",
        "    # Plot at the end\n",
        "    plot_training_history(training_acc_history, validation_acc_history,\n",
        "                          train_loss_history, val_loss_history)\n",
        "\n",
        "\n",
        "def infer_network(x_test: np.ndarray, y_test: np.ndarray, args: Arguments, input_size: int):\n",
        "    \"\"\"\n",
        "    Conduct inference on the trained model.\n",
        "    \"\"\"\n",
        "    device = torch.device(\"cuda:0\" if torch.cuda.is_available() else \"cpu\")\n",
        "\n",
        "    # Recreate model & load state_dict (weights-only safe path)\n",
        "    n_classes = int(y_test.shape[1])  # one-hot labels\n",
        "    model = load_model(n_attention_modules=args.modules,\n",
        "                       n_classes=n_classes,\n",
        "                       input_dimension=input_size,\n",
        "                       uses_attention=str2bool(args.attn))\n",
        "    model.to(device)\n",
        "\n",
        "    state_path = os.path.join(args.output_dir, args.run_idx + \"_model.pt\")\n",
        "    state_dict = torch.load(state_path, map_location=device)\n",
        "    model.load_state_dict(state_dict)\n",
        "\n",
        "    testing_accuracies = []\n",
        "\n",
        "    model.eval()\n",
        "    for p in model.parameters():\n",
        "        p.requires_grad = False\n",
        "\n",
        "    print(\"\\tTesting:\")\n",
        "\n",
        "    begin = time.time()\n",
        "    x_test_list = [x_test[i:i + args.batch_size] for i in range(0, len(x_test), args.batch_size)]\n",
        "    y_test_list = [y_test[i:i + args.batch_size] for i in range(0, len(y_test), args.batch_size)]\n",
        "\n",
        "    with torch.no_grad():\n",
        "        for x, y in tqdm(zip(x_test_list, y_test_list), total=len(x_test_list)):\n",
        "            x = torch.from_numpy(x.astype(np.float32)).unsqueeze(1).to(device)\n",
        "            y = torch.from_numpy(y.astype(np.float32)).to(device)\n",
        "            out = model(x, y, infer=True)\n",
        "            accuracy = (torch.argmax(out, dim=1) == torch.argmax(y, dim=1)).sum().double() / y.shape[0]\n",
        "            testing_accuracies.append(accuracy.cpu().numpy())\n",
        "\n",
        "    testing_time = time.time() - begin\n",
        "    testing_accuracy = [np.mean(testing_accuracies)]\n",
        "    print(\"\\tTesting accuracy: {}% \".format(testing_accuracy[0]))\n",
        "    if model.uses_attention:\n",
        "        heatmaps_per_class = model.get_heatmaps(input_size=input_size)\n",
        "        pickle.dump(heatmaps_per_class,\n",
        "                    open(os.path.join(args.output_dir, args.run_idx + \"_attention_bands.pkl\"), \"wb\"))\n",
        "\n",
        "    pickle.dump(testing_accuracy,\n",
        "                open(os.path.join(args.output_dir, args.run_idx + \"_testing_accuracy.pkl\"), \"wb\"))\n",
        "    pickle.dump(testing_time, open(os.path.join(args.output_dir, args.run_idx + \"_time_testing.pkl\"), \"wb\"))\n",
        "\n",
        "\n",
        "# -------------------------- Utilities -------------------------- #\n",
        "\n",
        "def load_model(n_attention_modules: int, n_classes: int, input_dimension: int, uses_attention: bool) -> torch.nn.Module:\n",
        "    \"\"\"Load attention-based model architectures.\"\"\"\n",
        "    if n_attention_modules == 2:\n",
        "        return Model2(num_of_classes=n_classes, input_dimension=input_dimension, uses_attention=uses_attention)\n",
        "    elif n_attention_modules == 3:\n",
        "        return Model3(num_of_classes=n_classes, input_dimension=input_dimension, uses_attention=uses_attention)\n",
        "    elif n_attention_modules == 4:\n",
        "        return Model4(num_of_classes=n_classes, input_dimension=input_dimension, uses_attention=uses_attention)\n",
        "    raise argparse.ArgumentError(argument=None,\n",
        "                                 message=\"Incorrect number of attention modules.\\n\"\n",
        "                                         \"Possible choices: [2, 3, 4]\\n\"\n",
        "                                         \"Passed argument: {}\".format(n_attention_modules))\n",
        "\n",
        "\n",
        "def run(args: Arguments, selected_bands: np.ndarray = None):\n",
        "    \"\"\"Run the experiments.\"\"\"\n",
        "    device = torch.device(\"cuda:0\" if torch.cuda.is_available() else \"cpu\")\n",
        "    os.makedirs(args.output_dir, exist_ok=True)\n",
        "    print(\"Training model for dataset: {}\".format(os.path.basename(os.path.normpath(args.dataset_path))))\n",
        "    samples, labels = get_loader_function(data_path=args.dataset_path, ref_map_path=args.labels_path)\n",
        "    if args.selected_bands is not None:\n",
        "        selected_bands = np.loadtxt(fname=args.selected_bands).astype(int)\n",
        "    if selected_bands is not None:\n",
        "        samples = samples[..., selected_bands]\n",
        "        print(\"Selected bands: {}\".format(selected_bands))\n",
        "        print(\"Number of selected bands: {}\".format(samples.shape[-1]))\n",
        "    (x_train, y_train), (x_val, y_val), (x_test, y_test) = produce_splits(samples=samples,\n",
        "                                                                          labels=labels,\n",
        "                                                                          validation_size=args.validation,\n",
        "                                                                          test_size=args.test)\n",
        "    try:\n",
        "        model = load_model(n_attention_modules=args.modules,\n",
        "                           n_classes=int(labels.max() + 1),\n",
        "                           input_dimension=x_train.shape[-1],\n",
        "                           uses_attention=str2bool(args.attn))\n",
        "    except argparse.ArgumentError as e:\n",
        "        print(e)\n",
        "        sys.exit(\"Incorrect arguments specification.\")\n",
        "    model.to(device)\n",
        "    train_network(x_train=x_train, y_train=y_train, x_val=x_val, y_val=y_val, model=model, args=args)\n",
        "    infer_network(x_test=x_test, y_test=y_test, args=args, input_size=x_train.shape[-1])\n",
        "\n",
        "\n",
        "def plot_heatmaps(heatmaps: np.ndarray, args: Arguments, show_fig: bool):\n",
        "    \"\"\"Plot heatmaps for each class.\"\"\"\n",
        "    fig, axis = plt.subplots()\n",
        "    heatmap = axis.pcolor(heatmaps)\n",
        "    axis.set_yticklabels(list(range(heatmaps.shape[0])), minor=True)\n",
        "    plt.colorbar(heatmap)\n",
        "    fig.set_size_inches(12, 4)\n",
        "    plt.title(\"Attention heatmaps scores\")\n",
        "    plt.ylabel(\"Class\")\n",
        "    plt.xlabel(\"Band\")\n",
        "    plt.savefig(os.path.join(args.output_dir, args.run_idx + \"_attention_map.pdf\"))\n",
        "    if show_fig:\n",
        "        plt.show()\n",
        "\n",
        "\n",
        "def eval_heatmaps(args: Arguments) -> np.ndarray:\n",
        "    \"\"\"Detect outliers in the collected heatmaps over all classes.\"\"\"\n",
        "    heatmaps = pickle.load(open(os.path.join(args.output_dir, args.run_idx + \"_attention_bands.pkl\"), \"rb\"))\n",
        "    plot_heatmaps(heatmaps=heatmaps, args=args, show_fig=True)\n",
        "    clf = EllipticEnvelope(contamination=float(args.cont))\n",
        "    heatmaps = np.expand_dims(np.mean(heatmaps, axis=0), axis=1)\n",
        "    outliers = clf.fit(heatmaps).predict(heatmaps)\n",
        "    outliers[outliers == 1] = 0\n",
        "    nonzero = np.nonzero(outliers)\n",
        "    selected_bands = np.unique(nonzero)\n",
        "    print(\"Selected bands: {0}\".format(selected_bands))\n",
        "    np.savetxt(os.path.join(args.output_dir,\n",
        "                            args.run_idx + \"_selected_bands\"),\n",
        "               selected_bands,\n",
        "               delimiter=\"\\n\",\n",
        "               fmt=\"%d\")\n",
        "    return selected_bands\n",
        "\n",
        "\n",
        "def str2bool(string_arg: str) -> bool:\n",
        "    \"\"\"Parse string argument to bool.\"\"\"\n",
        "    if string_arg.lower() in (\"yes\", \"true\", \"t\", \"y\", \"1\"):\n",
        "        return True\n",
        "    elif string_arg.lower() in (\"no\", \"false\", \"f\", \"n\", \"0\"):\n",
        "        return False\n",
        "    else:\n",
        "        raise argparse.ArgumentTypeError(\"Boolean value expected.\")\n",
        "\n",
        "\n",
        "def main(args: Arguments):\n",
        "    \"\"\"Run band selection algorithm and then train model on selected bands.\"\"\"\n",
        "    try:\n",
        "        if not str2bool(args.attn):\n",
        "            # If model was not using attention, train and evaluate on data without selecting bands.\n",
        "            args = args._replace(run_idx=args.run_idx + \"_no_attention\")\n",
        "        if args.selected_bands is not None and str2bool(args.attn):\n",
        "            # Assert that there will be no band selection on the reduced dataset.\n",
        "            raise argparse.ArgumentError(argument=None,\n",
        "                                         message=\"Cannot perform band selection on the reduced dataset.\")\n",
        "    except (argparse.ArgumentTypeError, argparse.ArgumentError) as e:\n",
        "        print(e)\n",
        "        sys.exit(\"Incorrect arguments specification.\")\n",
        "    run(args)\n",
        "    try:\n",
        "        if str2bool(args.attn):\n",
        "            # If model was using attention, select bands from obtained heatmap.\n",
        "            selected_bands = eval_heatmaps(args)\n",
        "            # After selection train new model without attention on reduced data.\n",
        "            args = args._replace(attn=\"false\")\n",
        "            args = args._replace(run_idx=args.run_idx + \"_no_attention\")\n",
        "            run(args, selected_bands)\n",
        "    except argparse.ArgumentTypeError as e:\n",
        "        print(e)\n",
        "        sys.exit(\"Incorrect arguments specification.\")\n",
        "\n",
        "\n",
        "if __name__ == \"__main__\":\n",
        "    arguments = Arguments(\n",
        "        dataset_path=\"/content/PaviaU.mat\",\n",
        "        labels_path=\"/content/PaviaU_gt.mat\",\n",
        "        selected_bands=None,\n",
        "        validation=0.1,\n",
        "        test=0.1,\n",
        "        epochs=9999,\n",
        "        modules=3,\n",
        "        patience=25,\n",
        "        output_dir=\"/content/output\",\n",
        "        batch_size=64,\n",
        "        attn=\"y\",\n",
        "        run_idx=str(1),\n",
        "        cont=0.09\n",
        "    )\n",
        "    main(args=arguments)\n"
      ]
    }
  ]
}